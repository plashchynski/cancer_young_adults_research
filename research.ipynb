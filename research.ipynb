{
 "cells": [
  {
   "cell_type": "markdown",
   "id": "9f5b1f7b-985e-4d62-ab8d-1ec44fb7efbb",
   "metadata": {
    "tags": []
   },
   "source": [
    "# Cancer incidence trends in young adults\n",
    "\n",
    "## Introduction\n",
    "\n",
    "The idea of this project comes from a conversation I recently have with a friend of mine who worked in a cancer retreat center. The friend is a medical professional who worked at the center for many years. He noticed that over the past 10 years, there have been more relatively young patients in the center than it was before. The friend was inclined to attribute this observation to the deteriorating quality of air, food, and other environmental factors. I skeptically suggested that there are other possible explanations of this phenomenon. 10 years ago, the friend himself was younger and could perceive typical patients as older.\n",
    "\n",
    "Cancer is a class of diseases in which some of the body’s cells grow uncontrollably and spread to other organs and tissues. Most cancers form a tumor. According to modern concepts, cancer is caused by changes to genes that control the way our cells function, especially how they grow and divide. Despite intensive research and development of new treatments, cancer remains the leading causes of death worldwide. In 2018, there were 18.1 million new cases and 9.5 million cancer-related deaths worldwide. By 2040, the number of new cancer cases per year is expected to rise to 29.5 million and the number of cancer-related deaths to 16.4 million [[1]](#ref_1).\n",
    "\n",
    "Cancer can be considered an age-related disease because the incidence of most cancers increases with age, rising more rapidly beginning in midlife. Despite the fact that the disease can occur at any age, more than half of all cancers occurred in adults aged ≥65 years [[2]](#ref_2). Therefore, for a long time, cancer was considered a disease predominantly affecting the elderly. Given this age specificity, a possible increase in the number of diseases among younger age groups may be of great interest.\n",
    "\n",
    "| ![Figure 1. Invasive cancer incidence, by age, U.S., 2009](media/cancer_and_age.jpg) |\n",
    "|:--:|\n",
    "| **Figure 1. Invasive cancer incidence, by age, U.S., 2009 <a href=\"#ref_2\">[2]</a>** |\n",
    "\n",
    "As a software developer I am interested in Digital health.\n",
    "The idea of using information technologies to enhance the efficiency of healthcare seems very promising.\n",
    "Collection and analysis of health data using the data-science approach could potentially improve our understanding of diseases such as cancer.\n",
    "Therefore, I decided to further investigate my friend's observation in this project.\n",
    "Using available data and data-science approach it seems possible to determine if young adults have become more often diagnosed with cancer in recent decades."
   ]
  },
  {
   "cell_type": "markdown",
   "id": "9cbb4d8e-f6ca-4312-aea5-f401bbe486b4",
   "metadata": {
    "tags": []
   },
   "source": [
    "## Literature Review"
   ]
  },
  {
   "cell_type": "markdown",
   "id": "39fd6cfc-ec05-4f1d-a434-3942c447e853",
   "metadata": {},
   "source": [
    "Before setting goals and objectives, I decided to study the available information on this topic.\n",
    "It is important to understand what has already been investigated and what has not yet been explored.\n",
    "I found several articles on the Internet in which the issue is studied.\n",
    "Below I provide a summary and key findings that are relevant in the context of this study."
   ]
  },
  {
   "cell_type": "markdown",
   "id": "5155fed4-801e-425d-ad40-d792582bdbf0",
   "metadata": {},
   "source": [
    "**Incidence trends for twelve cancers in younger adults—a rapid review. Br J Cancer 126, 1374–1386 (2022). [[5]](#ref_5)**\n",
    "\n",
    "This paper analyzed the epidemiological information of some types of cancer in young adult patients, and came to the following conclusion: \"Overall, this review provides evidence that some cancers are increasingly being diagnosed in younger age groups, although the mechanisms remain unclear.\" [[5]](#ref_5) This is a meta-analysis of existing studies on different types of cancer, but my goal is to explore the big picture across all types of cancer. The sources used in the article were mainly originated from the United States."
   ]
  },
  {
   "cell_type": "markdown",
   "id": "bc5ec8cb-821f-4b73-9901-f7eff973e8dc",
   "metadata": {},
   "source": [
    "**Trends in Cancer Incidence in US Adolescents and Young Adults, 1973-2015 [[6]](#ref_6)**.\n",
    "\n",
    "Some findings from this paper: \"In this serial cross-sectional, US population-based study using cancer registry data from 497 452 AYAs, the rate of cancer increased by 29.6% from 1973 to 2015, with kidney carcinoma increasing at the greatest rate. Breast carcinoma and testicular cancer were the most common cancer diagnoses for female and male AYAs, respectively.\" [[6]](#ref_6)\n",
    "\n",
    "The autors coclude: \"In this cross-sectional, US population-based study, cancer in AYAs was shown to have a unique epidemiological pattern and is a growing health concern, with many cancer subtypes having increased in incidence from 1973 to 2015. Continued research on AYA cancers is important to understanding and addressing the distinct health concerns of this population.\" [[6]](#ref_6) AYA is stands for Adolescents and Young Adults.\n",
    "\n",
    "The findings from this paper also support the idea that the increase in the number of diseases among young people in the United states has natural causes. However, the article is again focused on the United States."
   ]
  },
  {
   "cell_type": "markdown",
   "id": "5fabd7cf-a250-4b16-8977-69377719af57",
   "metadata": {},
   "source": [
    "**Cancer Stat Facts: Cancer Among Adolescents and Young Adults (AYAs) (Ages 15–39) [[7]](#ref_7).**"
   ]
  },
  {
   "cell_type": "markdown",
   "id": "da36ce07-7e15-4647-9975-6401559745f6",
   "metadata": {},
   "source": [
    "The results of this work once again confirm the increase in the number of diseases amoung young adults in the United Satates: \"Using statistical models for analysis, rates of new cancer cases of any site among AYAs have been rising on average 0.3% each year over 2010–2019, the last 10 years of available data.\" [[7]](#ref_7). This study is based on a database provided by National Cancer Institute of US. This is a high fidelity database, but it covers only ths U.S. This work uses great data visualization methods that I want to use for inspiration."
   ]
  },
  {
   "cell_type": "markdown",
   "id": "0b5b7632-ff62-452c-8595-d1af0a7698ae",
   "metadata": {},
   "source": [
    "As a result of a review of the literature available on the Internet on this topic, I found that there is ample evidence of an increase in the number of diseases among young adults in the United States. However, there are no studies on other regions and on worldwide population."
   ]
  },
  {
   "cell_type": "markdown",
   "id": "b8573cbd-8470-4637-85e5-d21177e57898",
   "metadata": {},
   "source": [
    "## Aims and Objectives"
   ]
  },
  {
   "cell_type": "markdown",
   "id": "ba0fb268-ac64-48a2-9d2b-7aee1cf43efa",
   "metadata": {},
   "source": [
    "According to the available literature, there is a trend in the United States that young people are more likely to get cancer in recent decades. However, the question remained unexplored whether there is such a trend around the world. My goal within this project is to fill this gap. I want to know if this is a global trend or this is pecific for certain regions.\n",
    "\n",
    "The literature cited above suggests that the causes for the trend observed in the US remain unclear. If a similar trend takes place in the rest of the world, this may help in finding its causes. Since in this case the reasons may be common to the entire planet, and not specific to a particular region. However, the search for the causes is beyond the scope of this study.\n",
    "\n",
    "For the purpose of this project, a young adult is considered to be between the ages of 15 and 44 (inclusive). This range was chosen because people younger than 15 have other types of cancer with different epidemiological dynamics that are outside the scope of this study [[3]](#ref_3). The age group over 45 also has its own epidemiological dynamics. It has long seen an increase in morbidity, but it is attributed mainly to an increase in overall life expectancy and a decrease in mortality from other causes [[4]](#ref_4). This is also outside the scope of this study."
   ]
  },
  {
   "cell_type": "markdown",
   "id": "94446ecf-bdb3-43b5-9b1c-a928717fec31",
   "metadata": {},
   "source": [
    "## Dataset"
   ]
  },
  {
   "cell_type": "markdown",
   "id": "9f594cd7-4d03-4adf-9280-498d8c1aa197",
   "metadata": {},
   "source": [
    "### Requirements"
   ]
  },
  {
   "cell_type": "markdown",
   "id": "1c381f92-6097-4704-8f99-2429fb59bd0c",
   "metadata": {},
   "source": [
    "To meet the goals of the project, the dataset must include worldwide cancer incidence statistics. Data must have at least two dimensions: the numbers should be broken down by year of diagnosis and a patient's age group. To pinpoint the trend, we need data for at least two decades. The data should be in machine-readable format."
   ]
  },
  {
   "cell_type": "markdown",
   "id": "0fc72581-476f-49b2-a347-47e84f0bd38f",
   "metadata": {},
   "source": [
    "### Datasets considered"
   ]
  },
  {
   "cell_type": "markdown",
   "id": "e5f99bb9-f62a-40cd-bc82-395a488360da",
   "metadata": {},
   "source": [
    "There are several organizations that collect statistics on cancer. In particular, the previously mentioned [National Cancer Institute (NCI)](https://www.nih.gov/about-nih/what-we-do/nih-almanac/national-cancer-institute-nci) provides SEER database. [SEER](https://seer.cancer.gov/) (Surveillance, Epidemiology, and End Results) is an authoritative source for cancer statistics in the United States. As previously metioned, this is a open and high fidelity database, but it covers only ths U.S. so it is not suitable for our research. Another problem is that this dataset is not generaly available in machine-readable format."
   ]
  },
  {
   "cell_type": "markdown",
   "id": "9be30816-b1ed-47ba-9def-5ef285c20ea2",
   "metadata": {},
   "source": [
    "Another considered dataset is [Cancer registration statistics for England](https://www.ons.gov.uk/peoplepopulationandcommunity/healthandsocialcare/conditionsanddiseases/datasets/cancerregistrationstatisticscancerregistrationstatisticsengland) provided by Office for National Statistics. The data includes cancer diagnoses and age-standardised incidence rates for all types of cancer by age and sex. It is available in a machine-readable format as Excel tables. Despite the fact that these are data for one geographic region, from these files I get an idea in what form such statistics can be provided at all."
   ]
  },
  {
   "cell_type": "markdown",
   "id": "093e1e1b-042d-473a-8c9a-6c95d622ae4e",
   "metadata": {},
   "source": [
    "### Choosen dataset"
   ]
  },
  {
   "cell_type": "markdown",
   "id": "1a7a8e5b-f38a-4bf4-933f-59a4fb44336c",
   "metadata": {},
   "source": [
    "After research of different sources concerning the subject I found that there is an organization [International Agency for Research on Cancer (IARC)](https://www.iarc.fr/) that is a part of the World Health Organization of the United Nations. Its role is to conduct and coordinate research into the causes of cancer. It also collects and publishes surveillance data regarding the occurrence of cancer worldwide.\n",
    "\n",
    "This data comes in datasets called [Cancer Incidence in Five Continents (CI5)](https://ci5.iarc.fr/Default.aspx). CI5 is the result of a long collaboration between the International Agency for Research on Cancer and the International Association of Cancer Registries. The series of monographs, published approximately every five years, has become the reference source of data on the international incidence of cancer. [[8]](#ref_8)\n",
    "\n",
    "The dataset is publicly available and can be used for research and educational purposes. On the [home page](https://ci5.iarc.fr/CI5I-X/Default.aspx) it explicitly states \"Materials (fact sheets, maps, estimates or data) may be used \"as is\" for research, educational or other non-commercial purposes, but the corresponding reference must be cited in all cases.\" Data is completely anonymized, it does not contain any personal information about patients.\n",
    "\n",
    "The whole dataset consists of separate publications (volumes) with data for different periods.\n",
    "These volumes are identified by Roman numerals (V, VI, VII, etc).\n",
    "The first 6 volumes (V, VI, VII, VIII, IX, and X)[[9]](#ref_9)[[10]](#ref_10)[[11]](#ref_11)[[12]](#ref_12)[[13]](#ref_13)[[14]](#ref_14) cover the period from 1973 till 2007.\n",
    "The last volume (XI)[[15]](#ref_15) covers the period from 2008 till 2012.\n",
    "These publications are PDF files with very detailed reports on the incidence of cancer in different countries.\n",
    "Files with detailed source data are also provided along with reports.\n",
    "They are of primary interest to us.\n",
    "\n",
    "The first 6 volumes are considered archived, they are downlable on [this page](https://ci5.iarc.fr/CI5I-X/Pages/download.aspx).\n",
    "There are PDF reports and ZIP files with tabulated detailed (source) data.\n",
    "The latest volume is downlable on [this page](https://ci5.iarc.fr/CI5-XI/Pages/download.aspx).\n",
    "This dataset covers a large period of time from 1973 till 2012. The raw data is provided in machine-readable format (CSV, tabulated). There are detailed data on date of diagnosis, patient's age group, sex, geographic region, and cancer type. This is the most comprehensive source of information on cancer incidences in the world. Thus, this dataset is fully suitable for this study."
   ]
  },
  {
   "cell_type": "markdown",
   "id": "ccbf8754-a6a9-430b-9765-a775480e0fdc",
   "metadata": {
    "tags": []
   },
   "source": [
    "## Method"
   ]
  },
  {
   "cell_type": "markdown",
   "id": "8fb41762-9ae4-4337-a210-5e1de14ad465",
   "metadata": {},
   "source": [
    "After a more detailed examine of the dataset files, some problems were identified.\n",
    "The first problem is size of the dataset: more than 215 MB unziped.\n",
    "This is much more than the stated limit.\n",
    "The second problem is the extreme heterogeneity of the data.\n",
    "Each of these seven volumes has a different data format.\n",
    "Some files are in the form CSV, some are tab-separated.\n",
    "Different field names and other differences.\n",
    "\n",
    "To overcome these difficulties, I decided to divide the data analysis process into several stages:\n",
    "\n",
    "### Preprocessing\n",
    "\n",
    "At this stage, we create a dataset from the raw CI5 files.\n",
    "The raw CI5 files are individual reports (volumes) that were published at different times.\n",
    "These volumes have different data format.\n",
    "So we have separate sections for each volume (Volume V, Volume VI, Volume VII, etc.)\n",
    "We download raw files, unzip, cleansing, aggregate, and save only necessary information to a CSV file _dataset.csv_ that serve as a source for the further stages.\n",
    "This file is relatively small and can be cached, so there is no need to run this stage more than once. \n",
    "\n",
    "### Processing\n",
    "\n",
    "At this stage I no longer touch the raw CI5 files. The only source of the information is the intermediate dataset we generated at the Preprocessing stage. It is more precise cleansing and preparation for analysis.\n",
    "\n",
    "### Analysis\n",
    "\n",
    "I want to explore the dataset through different lenses, in particular:\n",
    "* Dynamics of the total number of registered cancer cases in the world in the recent decades.\n",
    "* Dynamics of registered cancer cases in the world in younge adults in the recent decades.\n",
    "* Dynamics of the percentage of young people among all cases in the recent decades.\n",
    "\n",
    "My assumption is that the evaluation of these metrics will be enough to answer this project's question: Is there a world trend that young people are more likely to be diagnosed with cancer in the recent decades."
   ]
  },
  {
   "cell_type": "markdown",
   "id": "294b3d34-d728-4094-9c16-a524a2d4380d",
   "metadata": {},
   "source": [
    "## Disclaimer"
   ]
  },
  {
   "cell_type": "markdown",
   "id": "1c4355f8-a725-475a-bcfa-09640a865b2d",
   "metadata": {},
   "source": [
    "This study touches on important topics in the diagnosis and epidemiology of cancer.\n",
    "Research in this topic usually has high requirements for data quality and fact checking.\n",
    "The framework for this research does not imply the level of verification normally expected from researches in public health.\n",
    "Considering the possible ethical issues, it is necessary to explicitly state that the results of this study and all the facts presented are provided for informational purposes only."
   ]
  },
  {
   "cell_type": "markdown",
   "id": "54cff7e6-98f7-4b4c-ab44-ce2358fa3038",
   "metadata": {},
   "source": [
    "## Import necessary libraries"
   ]
  },
  {
   "cell_type": "code",
   "execution_count": 1,
   "id": "aefd2c83-fa1c-40a5-96b4-be0071fea0ac",
   "metadata": {},
   "outputs": [
    {
     "name": "stdout",
     "output_type": "stream",
     "text": [
      "Requirement already satisfied: pandas==1.4.2 in /Users/dima/opt/anaconda3/lib/python3.9/site-packages (1.4.2)\n",
      "Requirement already satisfied: python-dateutil>=2.8.1 in /Users/dima/opt/anaconda3/lib/python3.9/site-packages (from pandas==1.4.2) (2.8.2)\n",
      "Requirement already satisfied: numpy>=1.18.5 in /Users/dima/opt/anaconda3/lib/python3.9/site-packages (from pandas==1.4.2) (1.20.3)\n",
      "Requirement already satisfied: pytz>=2020.1 in /Users/dima/opt/anaconda3/lib/python3.9/site-packages (from pandas==1.4.2) (2021.3)\n",
      "Requirement already satisfied: six>=1.5 in /Users/dima/opt/anaconda3/lib/python3.9/site-packages (from python-dateutil>=2.8.1->pandas==1.4.2) (1.16.0)\n",
      "Requirement already satisfied: matplotlib==3.5.2 in /Users/dima/opt/anaconda3/lib/python3.9/site-packages (3.5.2)\n",
      "Requirement already satisfied: kiwisolver>=1.0.1 in /Users/dima/opt/anaconda3/lib/python3.9/site-packages (from matplotlib==3.5.2) (1.3.1)\n",
      "Requirement already satisfied: cycler>=0.10 in /Users/dima/opt/anaconda3/lib/python3.9/site-packages (from matplotlib==3.5.2) (0.10.0)\n",
      "Requirement already satisfied: pyparsing>=2.2.1 in /Users/dima/opt/anaconda3/lib/python3.9/site-packages (from matplotlib==3.5.2) (3.0.4)\n",
      "Requirement already satisfied: python-dateutil>=2.7 in /Users/dima/opt/anaconda3/lib/python3.9/site-packages (from matplotlib==3.5.2) (2.8.2)\n",
      "Requirement already satisfied: fonttools>=4.22.0 in /Users/dima/opt/anaconda3/lib/python3.9/site-packages (from matplotlib==3.5.2) (4.25.0)\n",
      "Requirement already satisfied: packaging>=20.0 in /Users/dima/opt/anaconda3/lib/python3.9/site-packages (from matplotlib==3.5.2) (21.0)\n",
      "Requirement already satisfied: pillow>=6.2.0 in /Users/dima/opt/anaconda3/lib/python3.9/site-packages (from matplotlib==3.5.2) (8.4.0)\n",
      "Requirement already satisfied: numpy>=1.17 in /Users/dima/opt/anaconda3/lib/python3.9/site-packages (from matplotlib==3.5.2) (1.20.3)\n",
      "Requirement already satisfied: six in /Users/dima/opt/anaconda3/lib/python3.9/site-packages (from cycler>=0.10->matplotlib==3.5.2) (1.16.0)\n"
     ]
    }
   ],
   "source": [
    "!pip install pandas==1.4.2\n",
    "!pip install matplotlib==3.5.2\n",
    "\n",
    "import os\n",
    "import requests\n",
    "import zipfile\n",
    "import re\n",
    "import io\n",
    "import codecs\n",
    "from urllib.parse import urlparse\n",
    "import pandas as pd\n",
    "import matplotlib.pyplot as plt\n",
    "%matplotlib inline"
   ]
  },
  {
   "cell_type": "markdown",
   "id": "78f9b76b-52f0-4cf8-8e61-52421532ea9c",
   "metadata": {},
   "source": [
    "## Preprocessing"
   ]
  },
  {
   "cell_type": "markdown",
   "id": "7efe5b41-641b-4228-8ab4-a9fb8ae18974",
   "metadata": {},
   "source": [
    "At this stage, we create a dataset from the raw CI5 files [[9]](#ref_9)[[10]](#ref_10)[[11]](#ref_11)[[12]](#ref_12)[[13]](#ref_13)[[14]](#ref_14)[[15]](#ref_15).\n",
    "\n",
    "As I mentioned above, the raw data consists of 7 separate zip files (volumes).\n",
    "The total size of these files are more than 215 MB unziped which exceeds the allocated limit.\n",
    "At the preprocessing stage, I download the original CI5 files, remove all irrelevant information from them, and merge the result into one file _dataset.csv_.\n",
    "Thus, the result of this stage is one relatively small file _dataset.csv_ that serve as a data source for the further stages.\n",
    "\n",
    "**Important:** If you have dataset.csv you can skip the whole Preprocessing section and go right to the Processing section.\n",
    "\n",
    "First, download \"detailed data\" files from https://ci5.iarc.fr/ci5i-x/pages/download.aspx and https://ci5.iarc.fr/CI5-XI/Pages/download.aspx for each volumes:"
   ]
  },
  {
   "cell_type": "code",
   "execution_count": 2,
   "id": "53b197d8-8c5c-4701-8598-a27509fbb32a",
   "metadata": {},
   "outputs": [
    {
     "name": "stdout",
     "output_type": "stream",
     "text": [
      "Volume CI5-V exists in cache\n",
      "Volume CI5-VI exists in cache\n",
      "Volume CI5-VIId exists in cache\n",
      "Volume CI5-VIIId exists in cache\n",
      "Volume CI5-IXd exists in cache\n",
      "Volume CI5-Xd exists in cache\n",
      "Volume CI5-XI exists in cache\n"
     ]
    }
   ],
   "source": [
    "urls = (\n",
    "    \"https://ci5.iarc.fr/ci5i-x/old/vol5/CI5-V.zip\",\n",
    "    \"https://ci5.iarc.fr/ci5i-x/old/vol6/CI5-VI.zip\",\n",
    "    \"https://ci5.iarc.fr/ci5i-x/old/vol7/CI5-VIId.zip\",\n",
    "    \"https://ci5.iarc.fr/ci5i-x/old/vol8/CI5-VIIId.zip\",\n",
    "    \"https://ci5.iarc.fr/ci5i-x/old/vol9/CI5-IXd.zip\",\n",
    "    \"https://ci5.iarc.fr/CI5-X/CI5-Xd.zip\",\n",
    "    \"https://ci5.iarc.fr/CI5-XI/CI5-XI.zip\"\n",
    ")\n",
    "\n",
    "# create a new dir CI5 to save volume files\n",
    "os.makedirs(\"CI5\", exist_ok=True)\n",
    "\n",
    "def download_if_not_exists(url, path):\n",
    "    \"\"\"Download a file from the url and save to the path only if file does not already exist\"\"\"\n",
    "    if os.path.exists(path):\n",
    "        print(f\"File {path} exists in cache\")\n",
    "    else:\n",
    "        print(f\"Downloading {url}...\")\n",
    "        response = requests.get(url)\n",
    "        # check for HTTP errors\n",
    "        assert response.ok, f\"Failed to download a file {url}. Please try again.\"\n",
    "\n",
    "        print(f\"Save to {path}\")\n",
    "        open(path, \"wb\").write(response.content)\n",
    "            \n",
    "\n",
    "def unzip(file_path, target_dir):\n",
    "    \"\"\"Extract ZIP file file_path to target_dir\"\"\"\n",
    "    print(f\"Extract {file_path} to {target_dir}\")\n",
    "    with zipfile.ZipFile(file_path, \"r\") as zip_ref:\n",
    "        zip_ref.extractall(target_dir)\n",
    "\n",
    "# Download all files from urls, save it to CI5 folder, unzip\n",
    "for url in urls:\n",
    "    url_path = urlparse(url).path\n",
    "    file_name = os.path.basename(url_path)\n",
    "    file_path = os.path.join(\"CI5\", file_name)\n",
    "    volume_name = os.path.splitext(file_name)[0]\n",
    "    volume_path = os.path.join(\"CI5\", volume_name)\n",
    "\n",
    "    if os.path.exists(volume_path):\n",
    "        print(f\"Volume {volume_name} exists in cache\")\n",
    "    else:\n",
    "        download_if_not_exists(url, file_path)\n",
    "        unzip(file_path, os.path.join(\"CI5\", volume_name))"
   ]
  },
  {
   "cell_type": "markdown",
   "id": "faa18a08-9eee-48d5-bbd2-5aaf892d4ade",
   "metadata": {},
   "source": [
    "### Volume V"
   ]
  },
  {
   "cell_type": "markdown",
   "id": "8eab5442-6a5e-4d62-8f3c-ee0aeb11506a",
   "metadata": {},
   "source": [
    "This is the first CI5 volume covers period from 1973 till 1982. It is a zip archive with 4 files. The layout of the data files are:\n",
    "\n",
    "* cancers.txt — List of [diagnostic groups](https://ci5.iarc.fr/CI5I-X/Pages/cancer_vol10.aspx). It represents anatomical sites where cancer occurs.\n",
    "* registry.txt — list of regions and years of observation\n",
    "* cases.csv — Number of cases by sex, five-year age group and a cancer code from cancers.txt\n",
    "* pops.csv — Number of people at risk by five-year age group\n",
    "\n",
    "I will user Pandas dataframe to load and join data from registry.txt and cases.csv. Pandas looks like a suitable tool as it makes it easy to perform such operations on heterogeneous data. As a result of each volume processing step, we will get a dataframe in the following form:\n",
    "\n",
    "Period | N0_4 | N5_9 | ... | N85+ | N_UNK\n",
    "-------|------|------|-----|------|-------\n",
    "1973-1982 | 104 | 60 | ... | 1513 | 50\n",
    "1977-1981 | 97 | 40 | ... | 10 | 50\n",
    "...      | ... | ... | ...| ... | ...\n",
    "1982-1982 | 55 | 22 | ... | 436 | 18\n",
    "\n",
    "* __Period__ is a time interval arbitrary number of years. Periods can overlap with each other.\n",
    "* __N0_4, N5_9__ — are five-year age groups. There are the number of recorded cases for patients in each age groups per each period.\n",
    "* __N85+__ — is a special age group for patients over 85\n",
    "* __N_UNK —__ is a special age group for patients with unknown age\n",
    "\n",
    "So, each row in this intermediate dataset is a time period (from_year-till_year). Each column is a partient's age group."
   ]
  },
  {
   "cell_type": "code",
   "execution_count": 3,
   "id": "c2eff63c-debd-4967-b07b-f3d1f6419d1f",
   "metadata": {},
   "outputs": [],
   "source": [
    "# registry.txt is Tab-separated, while cases.csv is comma-separated\n",
    "v_registry_df = pd.read_csv(\"CI5/CI5-V/registry.txt\", sep=\"\\t\", index_col=0)\n",
    "v_cases_df = pd.read_csv(\"CI5/CI5-V/cases.csv\", index_col=0)\n",
    "\n",
    "# it uses a registry ID as a primary key to join two dataframes\n",
    "v_df = v_registry_df.join(v_cases_df, how=\"inner\", lsuffix=\"_registry\")\n",
    "\n",
    "# join two fields with start and end years into one field PERIOD in a format \"1995-1998\"\n",
    "v_df[\"PERIOD\"] = v_df[\"PERIOD_1\"].astype(str) + '-' + v_df[\"PERIOD_2\"].astype(str)\n",
    "\n",
    "# remove columns with irrelevant information\n",
    "v_df.drop(columns=['ETHNIC_GROUP_registry', 'PERIOD_1', 'PERIOD_2', 'NAME', 'ETHNIC_GROUP',\n",
    "       'SEX', 'CANCER', 'TOTAL'], inplace=True)\n",
    "\n",
    "v_df = v_df.groupby([\"PERIOD\"]).sum()\n",
    "\n",
    "# v_df # uncomment to display data for this volume"
   ]
  },
  {
   "cell_type": "markdown",
   "id": "5063e80b-ce31-43c1-a401-326ba3a1b82f",
   "metadata": {},
   "source": [
    "### Volume VI"
   ]
  },
  {
   "cell_type": "markdown",
   "id": "a81883b1-f673-4eab-bc76-a34fe85a3d08",
   "metadata": {},
   "source": [
    "**Reference:** Curado. M. P., Edwards. B., Shin. H.R., Storm. H., Ferlay. J., Heanue. M. and Boyle. P., eds (2007)\n",
    "Cancer Incidence in Five Continents, Vol. IX\n",
    "IARC Scientific Publications, No. 160, Lyon, IARC."
   ]
  },
  {
   "cell_type": "markdown",
   "id": "110d992c-258e-4059-857e-588450469e26",
   "metadata": {},
   "source": [
    "The second volume covers a period from 1981 till 1989.\n",
    "Technically, this volume is almost the same as the previous.\n",
    "Except it has slightly different column names."
   ]
  },
  {
   "cell_type": "code",
   "execution_count": 4,
   "id": "875a05d4-c278-4e95-85b0-39d6abaeecbb",
   "metadata": {},
   "outputs": [],
   "source": [
    "# registry.txt is Tab-separated, while cases.csv is comma-separated\n",
    "vi_registry_df = pd.read_csv(\"CI5/CI5-VI/registry.txt\", sep=\"\\t\", index_col=0, names=[\"REGISTRY\", \"PERIOD_1\", \"PERIOD_2\", \"NAME\"])\n",
    "vi_cases_df = pd.read_csv(\"CI5/CI5-VI/cases.csv\", index_col=0)\n",
    "\n",
    "# it uses a registry ID as a primary key to join two dataframes\n",
    "vi_df = vi_registry_df.join(vi_cases_df, how=\"inner\", lsuffix=\"_registry\")\n",
    "\n",
    "# join two fields with start and end years into one field PERIOD in a format \"1995-1998\"\n",
    "vi_df[\"PERIOD\"] = vi_df[\"PERIOD_1\"].astype(str) + '-' + vi_df[\"PERIOD_2\"].astype(str)\n",
    "\n",
    "# remove columns with irrelevant information\n",
    "vi_df.drop(columns=['PERIOD_1', 'PERIOD_2', 'NAME', 'SEX', 'CANCER', 'TOTAL'], inplace=True)\n",
    "\n",
    "vi_df = vi_df.groupby(\"PERIOD\").sum()\n",
    "\n",
    "# rename column names to a standard form\n",
    "vi_df.rename(columns={\"N85\": \"N85+\", \"N_unk\": \"N_UNK\"}, inplace=True)\n",
    "\n",
    "# vi_df # uncomment to display data for this volume"
   ]
  },
  {
   "cell_type": "markdown",
   "id": "57a3614b-8eee-44ca-9769-3f761d2fb658",
   "metadata": {},
   "source": [
    "### Volume VIId"
   ]
  },
  {
   "cell_type": "markdown",
   "id": "1d5dec70-2185-439b-bc0c-7eb80500fb14",
   "metadata": {},
   "source": [
    "This volume covers a period from 1983 till 1994. It has a different format than the previous two."
   ]
  },
  {
   "cell_type": "code",
   "execution_count": 5,
   "id": "d191f266-35d3-4347-957b-519a7a6766dd",
   "metadata": {},
   "outputs": [],
   "source": [
    "viid_registry_df = pd.read_csv(\"CI5/CI5-VIId/registry.txt\", index_col=0, names=[\"REGISTRY\", \"NAME\"])\n",
    "viid_cases_df = pd.read_csv(\"CI5/CI5-VIId/CI5VII.csv\", names=[\"REGISTRY\", \"SEX\", \"CANCER_NUMBER\", \"AGE\", \"CASES_COUNT\", \"PERSON_YEARS\"])\n",
    "\n",
    "# remove the first row as it is a broken header\n",
    "viid_registry_df = viid_registry_df[1:]\n",
    "\n",
    "# Extract years from NAME column using Regex\n",
    "viid_registry_df = viid_registry_df[\"NAME\"].str.extract(r\"(.+)\\s+\\((\\d+)-(\\d+)\\)\", expand=True) \\\n",
    "                                           .rename(columns= {1: \"PERIOD_1\", 2: \"PERIOD_2\"})\n",
    "\n",
    "# We have different AGE codes in this file, so we need to convert it to the standard form\n",
    "AGE_GROUP_CODES_MAPPING = {1: \"N0_4\", 2: \"N5_9\", 3: \"N10_14\", 4: \"N15_19\", 5: \"N20_24\", 6: \"N25_29\", 7: \"N30_34\",\n",
    "                           8: \"N35_39\", 9: \"N40_44\", 10: \"N45_49\", 11: \"N50_54\", 12: \"N55_59\", 13: \"N60_64\",\n",
    "                           14: \"N65_69\", 15: \"N70_74\", 16: \"N75_79\", 17: \"N80_84\", 18: \"N85+\", 19: \"N_UNK\"}\n",
    "\n",
    "viid_cases_df[\"AGE\"].replace(AGE_GROUP_CODES_MAPPING, inplace=True)\n",
    "\n",
    "# Convert a values in AGE to columns with agregated values from CASES_COUNT, reset the index to REGISTRY\n",
    "viid_cases_df = viid_cases_df.groupby([\"REGISTRY\", \"AGE\"])[\"CASES_COUNT\"].sum().to_frame().reset_index() \\\n",
    "                             .pivot(index=\"REGISTRY\", columns=\"AGE\", values=\"CASES_COUNT\")\n",
    "\n",
    "# Convert registry ID to int to be compatible with viid_cases_df's index to be able to join it\n",
    "viid_registry_df.index =  viid_registry_df.index.astype(int)\n",
    "\n",
    "# it uses a registry ID as a primary key to join two dataframes\n",
    "viid_df = viid_registry_df.join(viid_cases_df, how=\"inner\", lsuffix=\"_registry\")\n",
    "\n",
    "# join two fields with start and end years into one field PERIOD in a format \"1995-1998\"\n",
    "viid_df[\"PERIOD\"] = viid_df[\"PERIOD_1\"].astype(str) + '-' + viid_df[\"PERIOD_2\"].astype(str)\n",
    "\n",
    "# remove columns with irrelevant information\n",
    "viid_df.drop(columns=[0, \"PERIOD_1\", \"PERIOD_2\"], inplace=True)\n",
    "\n",
    "viid_df = viid_df.groupby(\"PERIOD\").sum()\n",
    "\n",
    "# viid_df # uncomment to display data for this volume"
   ]
  },
  {
   "cell_type": "markdown",
   "id": "83810ee2-f43b-4cac-ba75-a992424c06f8",
   "metadata": {},
   "source": [
    "### Volume VIIId"
   ]
  },
  {
   "cell_type": "markdown",
   "id": "4a00f056-3efe-4e69-a415-d4c1770d0cc8",
   "metadata": {},
   "source": [
    "This volume covers a period from 1991 till 1998. It has a similar format that the previous one. Except it has slightly different registry.txt format."
   ]
  },
  {
   "cell_type": "code",
   "execution_count": 6,
   "id": "1f525dcd-7cd5-46c2-b263-779b2519df6f",
   "metadata": {},
   "outputs": [],
   "source": [
    "viiid_registry_df = pd.read_table(\"CI5/CI5-VIIId/registry.txt\", index_col=0)\n",
    "viiid_cases_df = pd.read_csv(\"CI5/CI5-VIIId/CI5-VIII.csv\", names=[\"REGISTRY\", \"SEX\", \"CANCER_NUMBER\", \"AGE\", \"CASES_COUNT\", \"PERSON_YEARS\"])\n",
    "\n",
    "# Extract years from index column using Regex\n",
    "viiid_registry_df = viiid_registry_df.index.str.extract(r\"\\s*(\\d+)\\s+(.*)\\((\\d+)(-(\\d+))?\\)\", expand=True).drop(columns=3)\n",
    "viiid_registry_df = viiid_registry_df.rename(columns= {0: \"REGISTRY\", 1: \"NAME\", 2: \"PERIOD_1\", 4: \"PERIOD_2\"}).set_index(\"REGISTRY\")\n",
    "\n",
    "# Use of AGE_GROUP_CODES_MAPPING from the previous volume to convert AGE to the standard format\n",
    "viiid_cases_df[\"AGE\"].replace(AGE_GROUP_CODES_MAPPING, inplace=True)\n",
    "\n",
    "# Convert a values in AGE to columns with agregated values from CASES_COUNT, reset the index to REGISTRY\n",
    "viiid_cases_df = viiid_cases_df.groupby([\"REGISTRY\", \"AGE\"])[\"CASES_COUNT\"].sum().to_frame().reset_index() \\\n",
    "                               .pivot(index=\"REGISTRY\", columns=\"AGE\", values=\"CASES_COUNT\")\n",
    "\n",
    "# Convert registry ID to int to be compatible with viid_cases_df's index to be able to join it\n",
    "viiid_registry_df.index = viiid_registry_df.index.astype(int)\n",
    "\n",
    "# It uses a registry ID as a primary key to join two dataframes\n",
    "viiid_df = viiid_registry_df.join(viid_cases_df, how=\"inner\", lsuffix=\"_registry\")\n",
    "\n",
    "# Fix illegal values in the record for Taiwan\n",
    "viiid_df.loc[81, \"PERIOD_1\"] = 1993\n",
    "viiid_df.loc[81, \"PERIOD_2\"] = 1997\n",
    "\n",
    "# join two fields with start and end years into one field PERIOD in a format \"1995-1998\"\n",
    "viiid_df[\"PERIOD\"] = viiid_df[\"PERIOD_1\"].astype(str) + '-' + viiid_df[\"PERIOD_2\"].astype(str)\n",
    "\n",
    "viiid_df = viiid_df.groupby([\"PERIOD\"]).sum()\n",
    "\n",
    "# viiid_df # uncomment to display data for this volume"
   ]
  },
  {
   "cell_type": "markdown",
   "id": "dcf0713a-0e32-4d30-9f24-c8cef75ff992",
   "metadata": {},
   "source": [
    "### Volume IXd"
   ]
  },
  {
   "cell_type": "markdown",
   "id": "ff395a1f-2c56-4a09-94c3-550091692751",
   "metadata": {},
   "source": [
    "This volume covers a period from 1996 till 2002. It uses a different data format when cancer cases from different registers stored in different files _CI5/CI5-IXd/{registry_id}.csv_."
   ]
  },
  {
   "cell_type": "code",
   "execution_count": 7,
   "id": "2152eac4-d647-40d7-984c-dee26dc6345e",
   "metadata": {},
   "outputs": [],
   "source": [
    "ixd_registry_df = pd.read_table(\"CI5/CI5-IXd/registry.txt\", names=[\"REGISTRY\", \"NAME\"], index_col=0)\n",
    "\n",
    "# Extract years from index column using Regex\n",
    "ixd_registry_df = ixd_registry_df[\"NAME\"].str.extract(r\"\\s*(.*)\\s*\\((\\d+)-(\\d+)\\)\", expand=True) \\\n",
    "                                         .rename(columns= {0: \"NAME\", 1: \"PERIOD_1\", 2: \"PERIOD_2\"})\n",
    "\n",
    "# Load case record files for each registry and append it to registry_dfs array\n",
    "registry_dfs = []\n",
    "for registry in ixd_registry_df.index:\n",
    "    df = pd.read_csv(f\"CI5/CI5-IXd/{registry}.csv\", names=[\"SEX\", \"CANCER_NUMBER\", \"AGE\", \"CASES_COUNT\", \"PERSON_YEARS\"])\n",
    "    df['REGISTRY'] = registry\n",
    "    registry_dfs.append(df)\n",
    "\n",
    "# Merge all register files into one dataframe\n",
    "ixd_cases_df = pd.concat(registry_dfs)\n",
    "\n",
    "# Use of AGE_GROUP_CODES_MAPPING from the previous volume to convert AGE to the standard format\n",
    "ixd_cases_df[\"AGE\"].replace(AGE_GROUP_CODES_MAPPING, inplace=True)\n",
    "\n",
    "# Convert a values in AGE to columns with agregated values from CASES_COUNT, reset the index to REGISTRY\n",
    "ixd_cases_df = ixd_cases_df.groupby([\"REGISTRY\", \"AGE\"])[\"CASES_COUNT\"].sum().to_frame().reset_index() \\\n",
    "                           .pivot(index=\"REGISTRY\", columns=\"AGE\", values=\"CASES_COUNT\")\n",
    "\n",
    "# It uses a registry ID as a primary key to join two dataframes\n",
    "ixd_df = ixd_registry_df.join(ixd_cases_df, how=\"inner\", lsuffix=\"_registry\")\n",
    "\n",
    "# join two fields with start and end years into one field PERIOD in a format \"1995-1998\"\n",
    "ixd_df[\"PERIOD\"] = ixd_df[\"PERIOD_1\"].astype(str) + '-' + ixd_df[\"PERIOD_2\"].astype(str)\n",
    "\n",
    "ixd_df = ixd_df.groupby(\"PERIOD\").sum()\n",
    "\n",
    "# ixd_df # uncomment to display data for this volume"
   ]
  },
  {
   "cell_type": "markdown",
   "id": "94c48236-1e55-43bd-b89d-4d3cfd450faa",
   "metadata": {},
   "source": [
    "### Volume Xd"
   ]
  },
  {
   "cell_type": "markdown",
   "id": "dcbe0a0c-f88d-4e54-a8e9-f1f35feaec26",
   "metadata": {},
   "source": [
    "This volume covers a period from 2003 till 2007. It has a similar format that the previous one."
   ]
  },
  {
   "cell_type": "code",
   "execution_count": 8,
   "id": "8016d7f8-61d5-4042-a3ea-1ccb83cd5d7d",
   "metadata": {},
   "outputs": [],
   "source": [
    "# A file CI5/CI5-XI/registry.txt contains unicode errors which cause error when read it directly with pd.read_table()\n",
    "with codecs.open(\"CI5/CI5-Xd/registry.txt\", 'r', 'utf8', errors=\"ignore\") as ff:\n",
    "    content = ff.read()\n",
    "\n",
    "# load a dataframe from the string\n",
    "xd_registry_df = pd.read_table(io.StringIO(content), names=[\"REGISTRY\", \"NAME\"], index_col=0)\n",
    "\n",
    "# Extract years from index column using Regex\n",
    "xd_registry_df = xd_registry_df[\"NAME\"].str.extract(r\"\\s*(.*)\\s*\\((\\d+)-(?:\\d+,\\d+-)?(\\d+)\\)\", expand=True) \\\n",
    "                                       .rename(columns= {0: \"NAME\", 1: \"PERIOD_1\", 2: \"PERIOD_2\"})\n",
    "\n",
    "# Load case record files for each registry and append it to registry_dfs array\n",
    "registry_dfs = []\n",
    "for registry in xd_registry_df.index:\n",
    "    df = pd.read_csv(f\"CI5/CI5-Xd/{registry}.csv\", names=[\"SEX\", \"CANCER_NUMBER\", \"AGE\", \"CASES_COUNT\", \"PERSON_YEARS\"])\n",
    "    df['REGISTRY'] = registry\n",
    "    registry_dfs.append(df)\n",
    "\n",
    "# Merge all register files into one dataframe\n",
    "xd_cases_df = pd.concat(registry_dfs)\n",
    "\n",
    "# Use of AGE_GROUP_CODES_MAPPING from the previous volume to convert AGE to the standard format\n",
    "xd_cases_df[\"AGE\"].replace(AGE_GROUP_CODES_MAPPING, inplace=True)\n",
    "\n",
    "# Convert a values in AGE to columns with agregated values from CASES_COUNT, reset the index to REGISTRY\n",
    "xd_cases_df = xd_cases_df.groupby([\"REGISTRY\", \"AGE\"])[\"CASES_COUNT\"].sum().to_frame().reset_index() \\\n",
    "                         .pivot(index=\"REGISTRY\", columns=\"AGE\", values=\"CASES_COUNT\")\n",
    "\n",
    "# It uses a registry ID as a primary key to join two dataframes\n",
    "xd_df = xd_registry_df.join(xd_cases_df, how=\"inner\", lsuffix=\"_registry\")\n",
    "\n",
    "# join two fields with start and end years into one field PERIOD in a format \"1995-1998\"\n",
    "xd_df[\"PERIOD\"] = xd_df[\"PERIOD_1\"].astype(str) + '-' + xd_df[\"PERIOD_2\"].astype(str)\n",
    "\n",
    "xd_df = xd_df.groupby([\"PERIOD\"]).sum()\n",
    "\n",
    "# xd_df # uncomment to display data for this volume"
   ]
  },
  {
   "cell_type": "markdown",
   "id": "6ecb456a-ad8d-4287-806c-0a410526d795",
   "metadata": {},
   "source": [
    "### Volume XI"
   ]
  },
  {
   "cell_type": "markdown",
   "id": "684564f9-ea53-4f4d-ba8b-4ada85f38117",
   "metadata": {},
   "source": [
    "The is the latest volume covers the period from 2008 till 2012. Technicaly, it differs from the previous one, uses the format of the old volumes."
   ]
  },
  {
   "cell_type": "code",
   "execution_count": 9,
   "id": "e2b77649-4a5f-44bc-a1ba-927ce99b45ab",
   "metadata": {},
   "outputs": [
    {
     "data": {
      "text/html": [
       "<div>\n",
       "<style scoped>\n",
       "    .dataframe tbody tr th:only-of-type {\n",
       "        vertical-align: middle;\n",
       "    }\n",
       "\n",
       "    .dataframe tbody tr th {\n",
       "        vertical-align: top;\n",
       "    }\n",
       "\n",
       "    .dataframe thead th {\n",
       "        text-align: right;\n",
       "    }\n",
       "</style>\n",
       "<table border=\"1\" class=\"dataframe\">\n",
       "  <thead>\n",
       "    <tr style=\"text-align: right;\">\n",
       "      <th></th>\n",
       "      <th>N0_4</th>\n",
       "      <th>N5_9</th>\n",
       "      <th>N10_14</th>\n",
       "      <th>N15_19</th>\n",
       "      <th>N20_24</th>\n",
       "      <th>N25_29</th>\n",
       "      <th>N30_34</th>\n",
       "      <th>N35_39</th>\n",
       "      <th>N40_44</th>\n",
       "      <th>N45_49</th>\n",
       "      <th>N50_54</th>\n",
       "      <th>N55_59</th>\n",
       "      <th>N60_64</th>\n",
       "      <th>N65_69</th>\n",
       "      <th>N70_74</th>\n",
       "      <th>N75_79</th>\n",
       "      <th>N80_84</th>\n",
       "      <th>N85+</th>\n",
       "      <th>N_UNK</th>\n",
       "    </tr>\n",
       "    <tr>\n",
       "      <th>PERIOD</th>\n",
       "      <th></th>\n",
       "      <th></th>\n",
       "      <th></th>\n",
       "      <th></th>\n",
       "      <th></th>\n",
       "      <th></th>\n",
       "      <th></th>\n",
       "      <th></th>\n",
       "      <th></th>\n",
       "      <th></th>\n",
       "      <th></th>\n",
       "      <th></th>\n",
       "      <th></th>\n",
       "      <th></th>\n",
       "      <th></th>\n",
       "      <th></th>\n",
       "      <th></th>\n",
       "      <th></th>\n",
       "      <th></th>\n",
       "    </tr>\n",
       "  </thead>\n",
       "  <tbody>\n",
       "    <tr>\n",
       "      <th>2008-2010</th>\n",
       "      <td>2968</td>\n",
       "      <td>1836</td>\n",
       "      <td>2185</td>\n",
       "      <td>3431</td>\n",
       "      <td>5510</td>\n",
       "      <td>9183</td>\n",
       "      <td>16297</td>\n",
       "      <td>26210</td>\n",
       "      <td>42112</td>\n",
       "      <td>64684</td>\n",
       "      <td>91679</td>\n",
       "      <td>122790</td>\n",
       "      <td>152408</td>\n",
       "      <td>170535</td>\n",
       "      <td>182327</td>\n",
       "      <td>175222</td>\n",
       "      <td>135807</td>\n",
       "      <td>104538</td>\n",
       "      <td>40</td>\n",
       "    </tr>\n",
       "    <tr>\n",
       "      <th>2008-2011</th>\n",
       "      <td>3214</td>\n",
       "      <td>2128</td>\n",
       "      <td>2458</td>\n",
       "      <td>4190</td>\n",
       "      <td>6598</td>\n",
       "      <td>10270</td>\n",
       "      <td>16791</td>\n",
       "      <td>25768</td>\n",
       "      <td>40062</td>\n",
       "      <td>57353</td>\n",
       "      <td>74387</td>\n",
       "      <td>91680</td>\n",
       "      <td>109691</td>\n",
       "      <td>119287</td>\n",
       "      <td>124641</td>\n",
       "      <td>118886</td>\n",
       "      <td>90191</td>\n",
       "      <td>70509</td>\n",
       "      <td>286</td>\n",
       "    </tr>\n",
       "    <tr>\n",
       "      <th>2008-2012</th>\n",
       "      <td>576497</td>\n",
       "      <td>316520</td>\n",
       "      <td>360096</td>\n",
       "      <td>616826</td>\n",
       "      <td>1009808</td>\n",
       "      <td>1668276</td>\n",
       "      <td>2502076</td>\n",
       "      <td>3846737</td>\n",
       "      <td>6424317</td>\n",
       "      <td>10846346</td>\n",
       "      <td>16649330</td>\n",
       "      <td>21674567</td>\n",
       "      <td>26731500</td>\n",
       "      <td>28442059</td>\n",
       "      <td>26336103</td>\n",
       "      <td>23251412</td>\n",
       "      <td>18620115</td>\n",
       "      <td>16506503</td>\n",
       "      <td>5125</td>\n",
       "    </tr>\n",
       "    <tr>\n",
       "      <th>2009-2012</th>\n",
       "      <td>1457</td>\n",
       "      <td>923</td>\n",
       "      <td>788</td>\n",
       "      <td>1091</td>\n",
       "      <td>2033</td>\n",
       "      <td>3412</td>\n",
       "      <td>5382</td>\n",
       "      <td>9710</td>\n",
       "      <td>15544</td>\n",
       "      <td>22488</td>\n",
       "      <td>26932</td>\n",
       "      <td>31540</td>\n",
       "      <td>28810</td>\n",
       "      <td>24950</td>\n",
       "      <td>25406</td>\n",
       "      <td>21251</td>\n",
       "      <td>13296</td>\n",
       "      <td>8077</td>\n",
       "      <td>3</td>\n",
       "    </tr>\n",
       "    <tr>\n",
       "      <th>2010-2012</th>\n",
       "      <td>3476</td>\n",
       "      <td>2066</td>\n",
       "      <td>2130</td>\n",
       "      <td>3664</td>\n",
       "      <td>6004</td>\n",
       "      <td>9533</td>\n",
       "      <td>15538</td>\n",
       "      <td>26414</td>\n",
       "      <td>40305</td>\n",
       "      <td>55808</td>\n",
       "      <td>64853</td>\n",
       "      <td>86721</td>\n",
       "      <td>91006</td>\n",
       "      <td>87554</td>\n",
       "      <td>95233</td>\n",
       "      <td>84927</td>\n",
       "      <td>59034</td>\n",
       "      <td>36363</td>\n",
       "      <td>1050</td>\n",
       "    </tr>\n",
       "  </tbody>\n",
       "</table>\n",
       "</div>"
      ],
      "text/plain": [
       "             N0_4    N5_9  N10_14  N15_19   N20_24   N25_29   N30_34   N35_39  \\\n",
       "PERIOD                                                                          \n",
       "2008-2010    2968    1836    2185    3431     5510     9183    16297    26210   \n",
       "2008-2011    3214    2128    2458    4190     6598    10270    16791    25768   \n",
       "2008-2012  576497  316520  360096  616826  1009808  1668276  2502076  3846737   \n",
       "2009-2012    1457     923     788    1091     2033     3412     5382     9710   \n",
       "2010-2012    3476    2066    2130    3664     6004     9533    15538    26414   \n",
       "\n",
       "            N40_44    N45_49    N50_54    N55_59    N60_64    N65_69  \\\n",
       "PERIOD                                                                 \n",
       "2008-2010    42112     64684     91679    122790    152408    170535   \n",
       "2008-2011    40062     57353     74387     91680    109691    119287   \n",
       "2008-2012  6424317  10846346  16649330  21674567  26731500  28442059   \n",
       "2009-2012    15544     22488     26932     31540     28810     24950   \n",
       "2010-2012    40305     55808     64853     86721     91006     87554   \n",
       "\n",
       "             N70_74    N75_79    N80_84      N85+  N_UNK  \n",
       "PERIOD                                                    \n",
       "2008-2010    182327    175222    135807    104538     40  \n",
       "2008-2011    124641    118886     90191     70509    286  \n",
       "2008-2012  26336103  23251412  18620115  16506503   5125  \n",
       "2009-2012     25406     21251     13296      8077      3  \n",
       "2010-2012     95233     84927     59034     36363   1050  "
      ]
     },
     "execution_count": 9,
     "metadata": {},
     "output_type": "execute_result"
    }
   ],
   "source": [
    "# A file CI5/CI5-XI/registry.txt contains unicode errors which cause error when read it directly with pd.read_table()\n",
    "with codecs.open(\"CI5/CI5-XI/registry.txt\", 'r', 'utf8', errors=\"ignore\") as ff:\n",
    "    content = ff.read()\n",
    "\n",
    "# Here we have one file cases.csv as in the older volumes\n",
    "xi_cases_df = pd.read_csv(\"CI5/CI5-XI/cases.csv\", index_col=0)\n",
    "\n",
    "# load a dataframe from the string\n",
    "xi_registry_df = pd.read_table(io.StringIO(content), names=[\"REGISTRY\", \"NAME\"], index_col=0)\n",
    "\n",
    "# Extract years from index column using Regex\n",
    "xi_registry_df = xi_registry_df[\"NAME\"].str.extract(r\"\\s*(.*)\\s*\\((\\d+)-(?:\\d+,\\d+-)?(\\d+)\\)\", expand=True)\\\n",
    "                                       .rename(columns= {0: \"NAME\", 1: \"PERIOD_1\", 2: \"PERIOD_2\"})\n",
    "\n",
    "# It uses a registry ID as a primary key to join two dataframes\n",
    "xi_df = xi_registry_df.join(xi_cases_df, how=\"inner\")\n",
    "\n",
    "# join two fields with start and end years into one field PERIOD in a format \"1995-1998\"\n",
    "xi_df[\"PERIOD\"] = xi_df[\"PERIOD_1\"].astype(str) + '-' + xi_df[\"PERIOD_2\"].astype(str)\n",
    "\n",
    "xi_df = xi_df.groupby([\"PERIOD\"]).sum()\n",
    "\n",
    "# remove columns with irrelevant information\n",
    "xi_df.drop(columns=[\"SEX\", \"CANCER\", \"TOTAL\"], inplace=True)\n",
    "\n",
    "# rename column names to a standard form\n",
    "xi_df.rename(columns={\"N85\": \"N85+\", \"N_unk\": \"N_UNK\"}, inplace=True)\n",
    "\n",
    "xi_df # uncomment to display data for this volume"
   ]
  },
  {
   "cell_type": "markdown",
   "id": "3add0c89-bc90-40cb-a6d5-996826428599",
   "metadata": {},
   "source": [
    "### Save results"
   ]
  },
  {
   "cell_type": "markdown",
   "id": "d671211a-d21c-4d44-9d19-e3be509d14f5",
   "metadata": {},
   "source": [
    "Merge data from all volumes and save to onle intermediate CSV file that serve as a source for the further stages. This file is relatively small and can be cached, so there is no need to run Preprocessing stage more than once."
   ]
  },
  {
   "cell_type": "code",
   "execution_count": 10,
   "id": "8e8588d9-28d7-44b9-99c3-77a749693203",
   "metadata": {},
   "outputs": [
    {
     "data": {
      "text/html": [
       "<div>\n",
       "<style scoped>\n",
       "    .dataframe tbody tr th:only-of-type {\n",
       "        vertical-align: middle;\n",
       "    }\n",
       "\n",
       "    .dataframe tbody tr th {\n",
       "        vertical-align: top;\n",
       "    }\n",
       "\n",
       "    .dataframe thead th {\n",
       "        text-align: right;\n",
       "    }\n",
       "</style>\n",
       "<table border=\"1\" class=\"dataframe\">\n",
       "  <thead>\n",
       "    <tr style=\"text-align: right;\">\n",
       "      <th></th>\n",
       "      <th>N0_4</th>\n",
       "      <th>N5_9</th>\n",
       "      <th>N10_14</th>\n",
       "      <th>N15_19</th>\n",
       "      <th>N20_24</th>\n",
       "      <th>N25_29</th>\n",
       "      <th>N30_34</th>\n",
       "      <th>N35_39</th>\n",
       "      <th>N40_44</th>\n",
       "      <th>N45_49</th>\n",
       "      <th>N50_54</th>\n",
       "      <th>N55_59</th>\n",
       "      <th>N60_64</th>\n",
       "      <th>N65_69</th>\n",
       "      <th>N70_74</th>\n",
       "      <th>N75_79</th>\n",
       "      <th>N80_84</th>\n",
       "      <th>N85+</th>\n",
       "      <th>N_UNK</th>\n",
       "    </tr>\n",
       "    <tr>\n",
       "      <th>PERIOD</th>\n",
       "      <th></th>\n",
       "      <th></th>\n",
       "      <th></th>\n",
       "      <th></th>\n",
       "      <th></th>\n",
       "      <th></th>\n",
       "      <th></th>\n",
       "      <th></th>\n",
       "      <th></th>\n",
       "      <th></th>\n",
       "      <th></th>\n",
       "      <th></th>\n",
       "      <th></th>\n",
       "      <th></th>\n",
       "      <th></th>\n",
       "      <th></th>\n",
       "      <th></th>\n",
       "      <th></th>\n",
       "      <th></th>\n",
       "    </tr>\n",
       "  </thead>\n",
       "  <tbody>\n",
       "    <tr>\n",
       "      <th>1973-1982</th>\n",
       "      <td>104</td>\n",
       "      <td>60</td>\n",
       "      <td>83</td>\n",
       "      <td>109</td>\n",
       "      <td>191</td>\n",
       "      <td>225</td>\n",
       "      <td>317</td>\n",
       "      <td>458</td>\n",
       "      <td>613</td>\n",
       "      <td>964</td>\n",
       "      <td>1339</td>\n",
       "      <td>1640</td>\n",
       "      <td>2028</td>\n",
       "      <td>2468</td>\n",
       "      <td>2722</td>\n",
       "      <td>2366</td>\n",
       "      <td>2226</td>\n",
       "      <td>1513</td>\n",
       "      <td>0</td>\n",
       "    </tr>\n",
       "    <tr>\n",
       "      <th>1977-1981</th>\n",
       "      <td>25561</td>\n",
       "      <td>17852</td>\n",
       "      <td>14268</td>\n",
       "      <td>21619</td>\n",
       "      <td>26581</td>\n",
       "      <td>45167</td>\n",
       "      <td>71753</td>\n",
       "      <td>73766</td>\n",
       "      <td>102870</td>\n",
       "      <td>155290</td>\n",
       "      <td>220232</td>\n",
       "      <td>311157</td>\n",
       "      <td>356729</td>\n",
       "      <td>530518</td>\n",
       "      <td>533940</td>\n",
       "      <td>402069</td>\n",
       "      <td>235849</td>\n",
       "      <td>134159</td>\n",
       "      <td>12506</td>\n",
       "    </tr>\n",
       "    <tr>\n",
       "      <th>1978-1978</th>\n",
       "      <td>655</td>\n",
       "      <td>357</td>\n",
       "      <td>278</td>\n",
       "      <td>460</td>\n",
       "      <td>713</td>\n",
       "      <td>953</td>\n",
       "      <td>1440</td>\n",
       "      <td>1973</td>\n",
       "      <td>3098</td>\n",
       "      <td>4711</td>\n",
       "      <td>5979</td>\n",
       "      <td>6000</td>\n",
       "      <td>6414</td>\n",
       "      <td>5975</td>\n",
       "      <td>4963</td>\n",
       "      <td>3446</td>\n",
       "      <td>1795</td>\n",
       "      <td>902</td>\n",
       "      <td>4200</td>\n",
       "    </tr>\n",
       "    <tr>\n",
       "      <th>1978-1979</th>\n",
       "      <td>66</td>\n",
       "      <td>72</td>\n",
       "      <td>64</td>\n",
       "      <td>72</td>\n",
       "      <td>144</td>\n",
       "      <td>331</td>\n",
       "      <td>516</td>\n",
       "      <td>1010</td>\n",
       "      <td>1501</td>\n",
       "      <td>1821</td>\n",
       "      <td>2608</td>\n",
       "      <td>3937</td>\n",
       "      <td>3884</td>\n",
       "      <td>7089</td>\n",
       "      <td>8291</td>\n",
       "      <td>7130</td>\n",
       "      <td>4935</td>\n",
       "      <td>2986</td>\n",
       "      <td>0</td>\n",
       "    </tr>\n",
       "    <tr>\n",
       "      <th>1978-1980</th>\n",
       "      <td>93</td>\n",
       "      <td>53</td>\n",
       "      <td>29</td>\n",
       "      <td>57</td>\n",
       "      <td>89</td>\n",
       "      <td>198</td>\n",
       "      <td>454</td>\n",
       "      <td>666</td>\n",
       "      <td>1025</td>\n",
       "      <td>1405</td>\n",
       "      <td>1785</td>\n",
       "      <td>1932</td>\n",
       "      <td>2110</td>\n",
       "      <td>2443</td>\n",
       "      <td>2057</td>\n",
       "      <td>1693</td>\n",
       "      <td>961</td>\n",
       "      <td>379</td>\n",
       "      <td>52</td>\n",
       "    </tr>\n",
       "    <tr>\n",
       "      <th>...</th>\n",
       "      <td>...</td>\n",
       "      <td>...</td>\n",
       "      <td>...</td>\n",
       "      <td>...</td>\n",
       "      <td>...</td>\n",
       "      <td>...</td>\n",
       "      <td>...</td>\n",
       "      <td>...</td>\n",
       "      <td>...</td>\n",
       "      <td>...</td>\n",
       "      <td>...</td>\n",
       "      <td>...</td>\n",
       "      <td>...</td>\n",
       "      <td>...</td>\n",
       "      <td>...</td>\n",
       "      <td>...</td>\n",
       "      <td>...</td>\n",
       "      <td>...</td>\n",
       "      <td>...</td>\n",
       "    </tr>\n",
       "    <tr>\n",
       "      <th>2008-2010</th>\n",
       "      <td>2968</td>\n",
       "      <td>1836</td>\n",
       "      <td>2185</td>\n",
       "      <td>3431</td>\n",
       "      <td>5510</td>\n",
       "      <td>9183</td>\n",
       "      <td>16297</td>\n",
       "      <td>26210</td>\n",
       "      <td>42112</td>\n",
       "      <td>64684</td>\n",
       "      <td>91679</td>\n",
       "      <td>122790</td>\n",
       "      <td>152408</td>\n",
       "      <td>170535</td>\n",
       "      <td>182327</td>\n",
       "      <td>175222</td>\n",
       "      <td>135807</td>\n",
       "      <td>104538</td>\n",
       "      <td>40</td>\n",
       "    </tr>\n",
       "    <tr>\n",
       "      <th>2008-2011</th>\n",
       "      <td>3214</td>\n",
       "      <td>2128</td>\n",
       "      <td>2458</td>\n",
       "      <td>4190</td>\n",
       "      <td>6598</td>\n",
       "      <td>10270</td>\n",
       "      <td>16791</td>\n",
       "      <td>25768</td>\n",
       "      <td>40062</td>\n",
       "      <td>57353</td>\n",
       "      <td>74387</td>\n",
       "      <td>91680</td>\n",
       "      <td>109691</td>\n",
       "      <td>119287</td>\n",
       "      <td>124641</td>\n",
       "      <td>118886</td>\n",
       "      <td>90191</td>\n",
       "      <td>70509</td>\n",
       "      <td>286</td>\n",
       "    </tr>\n",
       "    <tr>\n",
       "      <th>2008-2012</th>\n",
       "      <td>576497</td>\n",
       "      <td>316520</td>\n",
       "      <td>360096</td>\n",
       "      <td>616826</td>\n",
       "      <td>1009808</td>\n",
       "      <td>1668276</td>\n",
       "      <td>2502076</td>\n",
       "      <td>3846737</td>\n",
       "      <td>6424317</td>\n",
       "      <td>10846346</td>\n",
       "      <td>16649330</td>\n",
       "      <td>21674567</td>\n",
       "      <td>26731500</td>\n",
       "      <td>28442059</td>\n",
       "      <td>26336103</td>\n",
       "      <td>23251412</td>\n",
       "      <td>18620115</td>\n",
       "      <td>16506503</td>\n",
       "      <td>5125</td>\n",
       "    </tr>\n",
       "    <tr>\n",
       "      <th>2009-2012</th>\n",
       "      <td>1457</td>\n",
       "      <td>923</td>\n",
       "      <td>788</td>\n",
       "      <td>1091</td>\n",
       "      <td>2033</td>\n",
       "      <td>3412</td>\n",
       "      <td>5382</td>\n",
       "      <td>9710</td>\n",
       "      <td>15544</td>\n",
       "      <td>22488</td>\n",
       "      <td>26932</td>\n",
       "      <td>31540</td>\n",
       "      <td>28810</td>\n",
       "      <td>24950</td>\n",
       "      <td>25406</td>\n",
       "      <td>21251</td>\n",
       "      <td>13296</td>\n",
       "      <td>8077</td>\n",
       "      <td>3</td>\n",
       "    </tr>\n",
       "    <tr>\n",
       "      <th>2010-2012</th>\n",
       "      <td>3476</td>\n",
       "      <td>2066</td>\n",
       "      <td>2130</td>\n",
       "      <td>3664</td>\n",
       "      <td>6004</td>\n",
       "      <td>9533</td>\n",
       "      <td>15538</td>\n",
       "      <td>26414</td>\n",
       "      <td>40305</td>\n",
       "      <td>55808</td>\n",
       "      <td>64853</td>\n",
       "      <td>86721</td>\n",
       "      <td>91006</td>\n",
       "      <td>87554</td>\n",
       "      <td>95233</td>\n",
       "      <td>84927</td>\n",
       "      <td>59034</td>\n",
       "      <td>36363</td>\n",
       "      <td>1050</td>\n",
       "    </tr>\n",
       "  </tbody>\n",
       "</table>\n",
       "<p>84 rows × 19 columns</p>\n",
       "</div>"
      ],
      "text/plain": [
       "             N0_4    N5_9  N10_14  N15_19   N20_24   N25_29   N30_34   N35_39  \\\n",
       "PERIOD                                                                          \n",
       "1973-1982     104      60      83     109      191      225      317      458   \n",
       "1977-1981   25561   17852   14268   21619    26581    45167    71753    73766   \n",
       "1978-1978     655     357     278     460      713      953     1440     1973   \n",
       "1978-1979      66      72      64      72      144      331      516     1010   \n",
       "1978-1980      93      53      29      57       89      198      454      666   \n",
       "...           ...     ...     ...     ...      ...      ...      ...      ...   \n",
       "2008-2010    2968    1836    2185    3431     5510     9183    16297    26210   \n",
       "2008-2011    3214    2128    2458    4190     6598    10270    16791    25768   \n",
       "2008-2012  576497  316520  360096  616826  1009808  1668276  2502076  3846737   \n",
       "2009-2012    1457     923     788    1091     2033     3412     5382     9710   \n",
       "2010-2012    3476    2066    2130    3664     6004     9533    15538    26414   \n",
       "\n",
       "            N40_44    N45_49    N50_54    N55_59    N60_64    N65_69  \\\n",
       "PERIOD                                                                 \n",
       "1973-1982      613       964      1339      1640      2028      2468   \n",
       "1977-1981   102870    155290    220232    311157    356729    530518   \n",
       "1978-1978     3098      4711      5979      6000      6414      5975   \n",
       "1978-1979     1501      1821      2608      3937      3884      7089   \n",
       "1978-1980     1025      1405      1785      1932      2110      2443   \n",
       "...            ...       ...       ...       ...       ...       ...   \n",
       "2008-2010    42112     64684     91679    122790    152408    170535   \n",
       "2008-2011    40062     57353     74387     91680    109691    119287   \n",
       "2008-2012  6424317  10846346  16649330  21674567  26731500  28442059   \n",
       "2009-2012    15544     22488     26932     31540     28810     24950   \n",
       "2010-2012    40305     55808     64853     86721     91006     87554   \n",
       "\n",
       "             N70_74    N75_79    N80_84      N85+  N_UNK  \n",
       "PERIOD                                                    \n",
       "1973-1982      2722      2366      2226      1513      0  \n",
       "1977-1981    533940    402069    235849    134159  12506  \n",
       "1978-1978      4963      3446      1795       902   4200  \n",
       "1978-1979      8291      7130      4935      2986      0  \n",
       "1978-1980      2057      1693       961       379     52  \n",
       "...             ...       ...       ...       ...    ...  \n",
       "2008-2010    182327    175222    135807    104538     40  \n",
       "2008-2011    124641    118886     90191     70509    286  \n",
       "2008-2012  26336103  23251412  18620115  16506503   5125  \n",
       "2009-2012     25406     21251     13296      8077      3  \n",
       "2010-2012     95233     84927     59034     36363   1050  \n",
       "\n",
       "[84 rows x 19 columns]"
      ]
     },
     "execution_count": 10,
     "metadata": {},
     "output_type": "execute_result"
    }
   ],
   "source": [
    "df = pd.concat([v_df, vi_df, viid_df, viiid_df, ixd_df, xd_df, xi_df])\n",
    "df.to_csv(\"dataset.csv\")\n",
    "df"
   ]
  },
  {
   "cell_type": "markdown",
   "id": "345465aa-d77c-418f-af92-ffd993434c6f",
   "metadata": {
    "tags": []
   },
   "source": [
    "## Processing"
   ]
  },
  {
   "cell_type": "markdown",
   "id": "ea17b79c-f454-4391-b144-5c329e46b1cf",
   "metadata": {},
   "source": [
    "At this stage I no longer touch the raw CI5 files. The only source of the information is a dataset we generated at the previous stage: _dataset.csv_. Each row in this dataset is a time period (from_year-till_year). Each column of this dataset is a partient's age group (N0_4, N5_9, etc.) This format reflects the original form of the data. In the raw CI5 files we did not have a breakdown by year, but there were periods of several years. Some periods overlap each other. \n",
    "\n",
    "This data format is difficult to visualize and analyze because we don't have information for every specific year. The goal of this stage is to recast the existing dataset to a form suitable for analysis at the next stage. For this purpose, I decided to apply a very simple interpolation. If we have the number of cases over a period of several years, then we simply divide this number by the number of years and take into account the quotient for each year in the period: $Y_i = \\frac{C}{i_{max}-i_{min}}$ where $C$ is a total number of cases in a period, $Y_i$ is the numer of cases for a specific year in a period.\n",
    "\n"
   ]
  },
  {
   "cell_type": "code",
   "execution_count": 11,
   "id": "581b5994-a9f4-4b5b-9b72-cedf419c279d",
   "metadata": {},
   "outputs": [],
   "source": [
    "# Check if the dataset is ready\n",
    "assert os.path.exists(\"dataset.csv\"), \"dataset.csv does not exists, please run Preprocessing stage\"\n",
    "\n",
    "df = pd.read_csv(\"dataset.csv\", index_col=0)\n",
    "\n",
    "# Get a number of years covered by each period, it is inclusive, i.e. 2001-2003 = 3 years\n",
    "years = df.index.str.extract(\"(\\d+)-(\\d+)\", expand=True)\n",
    "years_count = (years[1].astype(int) - years[0].astype(int) + 1)\n",
    "years_count.set_axis(df.index, inplace=True)\n",
    "\n",
    "# divide a number of cancer cases in each period by a number of years covered by each period\n",
    "df = df.floordiv(years_count, axis=0)\n",
    "df.reset_index(inplace=True)\n",
    "\n",
    "# Convert periods in a form YYYY-YYYY to a list of years YYYY, add it to a new column  YEAR\n",
    "df.insert(1, \"YEAR\", df[\"PERIOD\"].str.extract(\"(\\d+)-(\\d+)\", expand=True) \\\n",
    "  .apply(lambda x : list(range(int(x[0]), int(x[1])+1)), axis=1))\n",
    "df = df.explode(\"YEAR\")\n",
    "df.reset_index(inplace=True)\n",
    "\n",
    "# remove irrelevant columns\n",
    "df.drop(columns=[\"index\", \"PERIOD\"], inplace=True)\n",
    "\n",
    "df = df.groupby(\"YEAR\").sum()"
   ]
  },
  {
   "cell_type": "markdown",
   "id": "e33f8a3f-061f-455b-8322-dc3327a16a4a",
   "metadata": {},
   "source": [
    "## Data validation"
   ]
  },
  {
   "cell_type": "markdown",
   "id": "6978001e-db59-4023-abdc-29c3456c02ec",
   "metadata": {},
   "source": [
    "Let's check the resulting dataset:"
   ]
  },
  {
   "cell_type": "code",
   "execution_count": 12,
   "id": "48cffddd-e4ca-4b4b-bd64-f245580ac6d3",
   "metadata": {},
   "outputs": [
    {
     "data": {
      "text/html": [
       "<div>\n",
       "<style scoped>\n",
       "    .dataframe tbody tr th:only-of-type {\n",
       "        vertical-align: middle;\n",
       "    }\n",
       "\n",
       "    .dataframe tbody tr th {\n",
       "        vertical-align: top;\n",
       "    }\n",
       "\n",
       "    .dataframe thead th {\n",
       "        text-align: right;\n",
       "    }\n",
       "</style>\n",
       "<table border=\"1\" class=\"dataframe\">\n",
       "  <thead>\n",
       "    <tr style=\"text-align: right;\">\n",
       "      <th></th>\n",
       "      <th>N0_4</th>\n",
       "      <th>N5_9</th>\n",
       "      <th>N10_14</th>\n",
       "      <th>N15_19</th>\n",
       "      <th>N20_24</th>\n",
       "      <th>N25_29</th>\n",
       "      <th>N30_34</th>\n",
       "      <th>N35_39</th>\n",
       "      <th>N40_44</th>\n",
       "      <th>N45_49</th>\n",
       "      <th>N50_54</th>\n",
       "      <th>N55_59</th>\n",
       "      <th>N60_64</th>\n",
       "      <th>N65_69</th>\n",
       "      <th>N70_74</th>\n",
       "      <th>N75_79</th>\n",
       "      <th>N80_84</th>\n",
       "      <th>N85+</th>\n",
       "      <th>N_UNK</th>\n",
       "    </tr>\n",
       "    <tr>\n",
       "      <th>YEAR</th>\n",
       "      <th></th>\n",
       "      <th></th>\n",
       "      <th></th>\n",
       "      <th></th>\n",
       "      <th></th>\n",
       "      <th></th>\n",
       "      <th></th>\n",
       "      <th></th>\n",
       "      <th></th>\n",
       "      <th></th>\n",
       "      <th></th>\n",
       "      <th></th>\n",
       "      <th></th>\n",
       "      <th></th>\n",
       "      <th></th>\n",
       "      <th></th>\n",
       "      <th></th>\n",
       "      <th></th>\n",
       "      <th></th>\n",
       "    </tr>\n",
       "  </thead>\n",
       "  <tbody>\n",
       "    <tr>\n",
       "      <th>1973</th>\n",
       "      <td>10</td>\n",
       "      <td>6</td>\n",
       "      <td>8</td>\n",
       "      <td>10</td>\n",
       "      <td>19</td>\n",
       "      <td>22</td>\n",
       "      <td>31</td>\n",
       "      <td>45</td>\n",
       "      <td>61</td>\n",
       "      <td>96</td>\n",
       "      <td>133</td>\n",
       "      <td>164</td>\n",
       "      <td>202</td>\n",
       "      <td>246</td>\n",
       "      <td>272</td>\n",
       "      <td>236</td>\n",
       "      <td>222</td>\n",
       "      <td>151</td>\n",
       "      <td>0</td>\n",
       "    </tr>\n",
       "    <tr>\n",
       "      <th>1974</th>\n",
       "      <td>10</td>\n",
       "      <td>6</td>\n",
       "      <td>8</td>\n",
       "      <td>10</td>\n",
       "      <td>19</td>\n",
       "      <td>22</td>\n",
       "      <td>31</td>\n",
       "      <td>45</td>\n",
       "      <td>61</td>\n",
       "      <td>96</td>\n",
       "      <td>133</td>\n",
       "      <td>164</td>\n",
       "      <td>202</td>\n",
       "      <td>246</td>\n",
       "      <td>272</td>\n",
       "      <td>236</td>\n",
       "      <td>222</td>\n",
       "      <td>151</td>\n",
       "      <td>0</td>\n",
       "    </tr>\n",
       "    <tr>\n",
       "      <th>1975</th>\n",
       "      <td>10</td>\n",
       "      <td>6</td>\n",
       "      <td>8</td>\n",
       "      <td>10</td>\n",
       "      <td>19</td>\n",
       "      <td>22</td>\n",
       "      <td>31</td>\n",
       "      <td>45</td>\n",
       "      <td>61</td>\n",
       "      <td>96</td>\n",
       "      <td>133</td>\n",
       "      <td>164</td>\n",
       "      <td>202</td>\n",
       "      <td>246</td>\n",
       "      <td>272</td>\n",
       "      <td>236</td>\n",
       "      <td>222</td>\n",
       "      <td>151</td>\n",
       "      <td>0</td>\n",
       "    </tr>\n",
       "    <tr>\n",
       "      <th>1976</th>\n",
       "      <td>10</td>\n",
       "      <td>6</td>\n",
       "      <td>8</td>\n",
       "      <td>10</td>\n",
       "      <td>19</td>\n",
       "      <td>22</td>\n",
       "      <td>31</td>\n",
       "      <td>45</td>\n",
       "      <td>61</td>\n",
       "      <td>96</td>\n",
       "      <td>133</td>\n",
       "      <td>164</td>\n",
       "      <td>202</td>\n",
       "      <td>246</td>\n",
       "      <td>272</td>\n",
       "      <td>236</td>\n",
       "      <td>222</td>\n",
       "      <td>151</td>\n",
       "      <td>0</td>\n",
       "    </tr>\n",
       "    <tr>\n",
       "      <th>1977</th>\n",
       "      <td>5122</td>\n",
       "      <td>3576</td>\n",
       "      <td>2861</td>\n",
       "      <td>4333</td>\n",
       "      <td>5335</td>\n",
       "      <td>9055</td>\n",
       "      <td>14381</td>\n",
       "      <td>14798</td>\n",
       "      <td>20635</td>\n",
       "      <td>31154</td>\n",
       "      <td>44179</td>\n",
       "      <td>62395</td>\n",
       "      <td>71547</td>\n",
       "      <td>106349</td>\n",
       "      <td>107060</td>\n",
       "      <td>80649</td>\n",
       "      <td>47391</td>\n",
       "      <td>26982</td>\n",
       "      <td>2501</td>\n",
       "    </tr>\n",
       "  </tbody>\n",
       "</table>\n",
       "</div>"
      ],
      "text/plain": [
       "      N0_4  N5_9  N10_14  N15_19  N20_24  N25_29  N30_34  N35_39  N40_44  \\\n",
       "YEAR                                                                       \n",
       "1973    10     6       8      10      19      22      31      45      61   \n",
       "1974    10     6       8      10      19      22      31      45      61   \n",
       "1975    10     6       8      10      19      22      31      45      61   \n",
       "1976    10     6       8      10      19      22      31      45      61   \n",
       "1977  5122  3576    2861    4333    5335    9055   14381   14798   20635   \n",
       "\n",
       "      N45_49  N50_54  N55_59  N60_64  N65_69  N70_74  N75_79  N80_84   N85+  \\\n",
       "YEAR                                                                          \n",
       "1973      96     133     164     202     246     272     236     222    151   \n",
       "1974      96     133     164     202     246     272     236     222    151   \n",
       "1975      96     133     164     202     246     272     236     222    151   \n",
       "1976      96     133     164     202     246     272     236     222    151   \n",
       "1977   31154   44179   62395   71547  106349  107060   80649   47391  26982   \n",
       "\n",
       "      N_UNK  \n",
       "YEAR         \n",
       "1973      0  \n",
       "1974      0  \n",
       "1975      0  \n",
       "1976      0  \n",
       "1977   2501  "
      ]
     },
     "execution_count": 12,
     "metadata": {},
     "output_type": "execute_result"
    }
   ],
   "source": [
    "df.head()"
   ]
  },
  {
   "cell_type": "code",
   "execution_count": 13,
   "id": "803f79d1-34ec-49eb-b314-ace1471f0443",
   "metadata": {},
   "outputs": [
    {
     "data": {
      "text/html": [
       "<div>\n",
       "<style scoped>\n",
       "    .dataframe tbody tr th:only-of-type {\n",
       "        vertical-align: middle;\n",
       "    }\n",
       "\n",
       "    .dataframe tbody tr th {\n",
       "        vertical-align: top;\n",
       "    }\n",
       "\n",
       "    .dataframe thead th {\n",
       "        text-align: right;\n",
       "    }\n",
       "</style>\n",
       "<table border=\"1\" class=\"dataframe\">\n",
       "  <thead>\n",
       "    <tr style=\"text-align: right;\">\n",
       "      <th></th>\n",
       "      <th>N0_4</th>\n",
       "      <th>N5_9</th>\n",
       "      <th>N10_14</th>\n",
       "      <th>N15_19</th>\n",
       "      <th>N20_24</th>\n",
       "      <th>N25_29</th>\n",
       "      <th>N30_34</th>\n",
       "      <th>N35_39</th>\n",
       "      <th>N40_44</th>\n",
       "      <th>N45_49</th>\n",
       "      <th>N50_54</th>\n",
       "      <th>N55_59</th>\n",
       "      <th>N60_64</th>\n",
       "      <th>N65_69</th>\n",
       "      <th>N70_74</th>\n",
       "      <th>N75_79</th>\n",
       "      <th>N80_84</th>\n",
       "      <th>N85+</th>\n",
       "      <th>N_UNK</th>\n",
       "    </tr>\n",
       "    <tr>\n",
       "      <th>YEAR</th>\n",
       "      <th></th>\n",
       "      <th></th>\n",
       "      <th></th>\n",
       "      <th></th>\n",
       "      <th></th>\n",
       "      <th></th>\n",
       "      <th></th>\n",
       "      <th></th>\n",
       "      <th></th>\n",
       "      <th></th>\n",
       "      <th></th>\n",
       "      <th></th>\n",
       "      <th></th>\n",
       "      <th></th>\n",
       "      <th></th>\n",
       "      <th></th>\n",
       "      <th></th>\n",
       "      <th></th>\n",
       "      <th></th>\n",
       "    </tr>\n",
       "  </thead>\n",
       "  <tbody>\n",
       "    <tr>\n",
       "      <th>2008</th>\n",
       "      <td>117091</td>\n",
       "      <td>64448</td>\n",
       "      <td>73361</td>\n",
       "      <td>125555</td>\n",
       "      <td>205446</td>\n",
       "      <td>339283</td>\n",
       "      <td>510044</td>\n",
       "      <td>784525</td>\n",
       "      <td>1308915</td>\n",
       "      <td>2205168</td>\n",
       "      <td>3379021</td>\n",
       "      <td>4398763</td>\n",
       "      <td>5424524</td>\n",
       "      <td>5775077</td>\n",
       "      <td>5359155</td>\n",
       "      <td>4738410</td>\n",
       "      <td>3791839</td>\n",
       "      <td>3353773</td>\n",
       "      <td>1109</td>\n",
       "    </tr>\n",
       "    <tr>\n",
       "      <th>2009</th>\n",
       "      <td>117455</td>\n",
       "      <td>64678</td>\n",
       "      <td>73558</td>\n",
       "      <td>125827</td>\n",
       "      <td>205954</td>\n",
       "      <td>340136</td>\n",
       "      <td>511389</td>\n",
       "      <td>786952</td>\n",
       "      <td>1312801</td>\n",
       "      <td>2210790</td>\n",
       "      <td>3385754</td>\n",
       "      <td>4406648</td>\n",
       "      <td>5431726</td>\n",
       "      <td>5781314</td>\n",
       "      <td>5365506</td>\n",
       "      <td>4743722</td>\n",
       "      <td>3795163</td>\n",
       "      <td>3355792</td>\n",
       "      <td>1109</td>\n",
       "    </tr>\n",
       "    <tr>\n",
       "      <th>2010</th>\n",
       "      <td>118613</td>\n",
       "      <td>65366</td>\n",
       "      <td>74268</td>\n",
       "      <td>127048</td>\n",
       "      <td>207955</td>\n",
       "      <td>343313</td>\n",
       "      <td>516568</td>\n",
       "      <td>795756</td>\n",
       "      <td>1326236</td>\n",
       "      <td>2229392</td>\n",
       "      <td>3407371</td>\n",
       "      <td>4435555</td>\n",
       "      <td>5462061</td>\n",
       "      <td>5810498</td>\n",
       "      <td>5397250</td>\n",
       "      <td>4772031</td>\n",
       "      <td>3814841</td>\n",
       "      <td>3367913</td>\n",
       "      <td>1459</td>\n",
       "    </tr>\n",
       "    <tr>\n",
       "      <th>2011</th>\n",
       "      <td>117624</td>\n",
       "      <td>64754</td>\n",
       "      <td>73540</td>\n",
       "      <td>125905</td>\n",
       "      <td>206119</td>\n",
       "      <td>340252</td>\n",
       "      <td>511136</td>\n",
       "      <td>787020</td>\n",
       "      <td>1312199</td>\n",
       "      <td>2207831</td>\n",
       "      <td>3376812</td>\n",
       "      <td>4394625</td>\n",
       "      <td>5411259</td>\n",
       "      <td>5753653</td>\n",
       "      <td>5336475</td>\n",
       "      <td>4713624</td>\n",
       "      <td>3769572</td>\n",
       "      <td>3333067</td>\n",
       "      <td>1446</td>\n",
       "    </tr>\n",
       "    <tr>\n",
       "      <th>2012</th>\n",
       "      <td>116821</td>\n",
       "      <td>64222</td>\n",
       "      <td>72926</td>\n",
       "      <td>124858</td>\n",
       "      <td>204470</td>\n",
       "      <td>337685</td>\n",
       "      <td>506939</td>\n",
       "      <td>780578</td>\n",
       "      <td>1302184</td>\n",
       "      <td>2193493</td>\n",
       "      <td>3358216</td>\n",
       "      <td>4371705</td>\n",
       "      <td>5383837</td>\n",
       "      <td>5723832</td>\n",
       "      <td>5305315</td>\n",
       "      <td>4683903</td>\n",
       "      <td>3747025</td>\n",
       "      <td>3315440</td>\n",
       "      <td>1375</td>\n",
       "    </tr>\n",
       "  </tbody>\n",
       "</table>\n",
       "</div>"
      ],
      "text/plain": [
       "        N0_4   N5_9  N10_14  N15_19  N20_24  N25_29  N30_34  N35_39   N40_44  \\\n",
       "YEAR                                                                           \n",
       "2008  117091  64448   73361  125555  205446  339283  510044  784525  1308915   \n",
       "2009  117455  64678   73558  125827  205954  340136  511389  786952  1312801   \n",
       "2010  118613  65366   74268  127048  207955  343313  516568  795756  1326236   \n",
       "2011  117624  64754   73540  125905  206119  340252  511136  787020  1312199   \n",
       "2012  116821  64222   72926  124858  204470  337685  506939  780578  1302184   \n",
       "\n",
       "       N45_49   N50_54   N55_59   N60_64   N65_69   N70_74   N75_79   N80_84  \\\n",
       "YEAR                                                                           \n",
       "2008  2205168  3379021  4398763  5424524  5775077  5359155  4738410  3791839   \n",
       "2009  2210790  3385754  4406648  5431726  5781314  5365506  4743722  3795163   \n",
       "2010  2229392  3407371  4435555  5462061  5810498  5397250  4772031  3814841   \n",
       "2011  2207831  3376812  4394625  5411259  5753653  5336475  4713624  3769572   \n",
       "2012  2193493  3358216  4371705  5383837  5723832  5305315  4683903  3747025   \n",
       "\n",
       "         N85+  N_UNK  \n",
       "YEAR                  \n",
       "2008  3353773   1109  \n",
       "2009  3355792   1109  \n",
       "2010  3367913   1459  \n",
       "2011  3333067   1446  \n",
       "2012  3315440   1375  "
      ]
     },
     "execution_count": 13,
     "metadata": {},
     "output_type": "execute_result"
    }
   ],
   "source": [
    "df.tail()"
   ]
  },
  {
   "cell_type": "markdown",
   "id": "a6fe001d-9da4-421d-968e-422c42da1cce",
   "metadata": {},
   "source": [
    "It seems pretty legit. Except that the records of the first years have unrealistically small values. This data comes from the first volume (V). I've checked the original data and came to a conclusion that this is a feature of the dataset and not a processing error. However, due to the low value of this data, I decided to delete it from the dataset:"
   ]
  },
  {
   "cell_type": "code",
   "execution_count": 14,
   "id": "fa36c1fa-31b4-4261-a16f-3ae55bd3c0e2",
   "metadata": {},
   "outputs": [],
   "source": [
    "df = df.loc[1978:]"
   ]
  },
  {
   "cell_type": "markdown",
   "id": "ec84e7eb-deee-4471-a239-e982d5edfe35",
   "metadata": {},
   "source": [
    "Let's check the boundary values for years:"
   ]
  },
  {
   "cell_type": "code",
   "execution_count": 15,
   "id": "f80e7fd9-5fd5-47ac-bd5f-6b85f24bf254",
   "metadata": {},
   "outputs": [
    {
     "data": {
      "text/plain": [
       "(1978, 2012)"
      ]
     },
     "execution_count": 15,
     "metadata": {},
     "output_type": "execute_result"
    }
   ],
   "source": [
    "(df.index.min(), df.index.max())"
   ]
  },
  {
   "cell_type": "markdown",
   "id": "70fad650-0d82-4b73-9136-5cc621a4935c",
   "metadata": {},
   "source": [
    "So this resulting dataset covers a period of 34 years from 1978 till 2012. Let's check the boundary values for number of cases:"
   ]
  },
  {
   "cell_type": "code",
   "execution_count": 16,
   "id": "5e59d546-f8b7-407a-9316-f24be03965b5",
   "metadata": {},
   "outputs": [
    {
     "data": {
      "text/html": [
       "<div>\n",
       "<style scoped>\n",
       "    .dataframe tbody tr th:only-of-type {\n",
       "        vertical-align: middle;\n",
       "    }\n",
       "\n",
       "    .dataframe tbody tr th {\n",
       "        vertical-align: top;\n",
       "    }\n",
       "\n",
       "    .dataframe thead th {\n",
       "        text-align: right;\n",
       "    }\n",
       "</style>\n",
       "<table border=\"1\" class=\"dataframe\">\n",
       "  <thead>\n",
       "    <tr style=\"text-align: right;\">\n",
       "      <th></th>\n",
       "      <th>MAX</th>\n",
       "      <th>MIN</th>\n",
       "    </tr>\n",
       "  </thead>\n",
       "  <tbody>\n",
       "    <tr>\n",
       "      <th>N0_4</th>\n",
       "      <td>149862</td>\n",
       "      <td>14323</td>\n",
       "    </tr>\n",
       "    <tr>\n",
       "      <th>N5_9</th>\n",
       "      <td>85460</td>\n",
       "      <td>8580</td>\n",
       "    </tr>\n",
       "    <tr>\n",
       "      <th>N10_14</th>\n",
       "      <td>97611</td>\n",
       "      <td>8825</td>\n",
       "    </tr>\n",
       "    <tr>\n",
       "      <th>N15_19</th>\n",
       "      <td>154913</td>\n",
       "      <td>14912</td>\n",
       "    </tr>\n",
       "    <tr>\n",
       "      <th>N20_24</th>\n",
       "      <td>237795</td>\n",
       "      <td>24124</td>\n",
       "    </tr>\n",
       "    <tr>\n",
       "      <th>N25_29</th>\n",
       "      <td>360237</td>\n",
       "      <td>39342</td>\n",
       "    </tr>\n",
       "    <tr>\n",
       "      <th>N30_34</th>\n",
       "      <td>553254</td>\n",
       "      <td>60955</td>\n",
       "    </tr>\n",
       "    <tr>\n",
       "      <th>N35_39</th>\n",
       "      <td>855754</td>\n",
       "      <td>92053</td>\n",
       "    </tr>\n",
       "    <tr>\n",
       "      <th>N40_44</th>\n",
       "      <td>1437484</td>\n",
       "      <td>126046</td>\n",
       "    </tr>\n",
       "    <tr>\n",
       "      <th>N45_49</th>\n",
       "      <td>2262419</td>\n",
       "      <td>180290</td>\n",
       "    </tr>\n",
       "    <tr>\n",
       "      <th>N50_54</th>\n",
       "      <td>3407371</td>\n",
       "      <td>262396</td>\n",
       "    </tr>\n",
       "    <tr>\n",
       "      <th>N55_59</th>\n",
       "      <td>4435555</td>\n",
       "      <td>387423</td>\n",
       "    </tr>\n",
       "    <tr>\n",
       "      <th>N60_64</th>\n",
       "      <td>5462061</td>\n",
       "      <td>515274</td>\n",
       "    </tr>\n",
       "    <tr>\n",
       "      <th>N65_69</th>\n",
       "      <td>5810498</td>\n",
       "      <td>549490</td>\n",
       "    </tr>\n",
       "    <tr>\n",
       "      <th>N70_74</th>\n",
       "      <td>5559138</td>\n",
       "      <td>613962</td>\n",
       "    </tr>\n",
       "    <tr>\n",
       "      <th>N75_79</th>\n",
       "      <td>5370255</td>\n",
       "      <td>536408</td>\n",
       "    </tr>\n",
       "    <tr>\n",
       "      <th>N80_84</th>\n",
       "      <td>4088752</td>\n",
       "      <td>351052</td>\n",
       "    </tr>\n",
       "    <tr>\n",
       "      <th>N85+</th>\n",
       "      <td>3367913</td>\n",
       "      <td>235475</td>\n",
       "    </tr>\n",
       "    <tr>\n",
       "      <th>N_UNK</th>\n",
       "      <td>23178</td>\n",
       "      <td>1109</td>\n",
       "    </tr>\n",
       "  </tbody>\n",
       "</table>\n",
       "</div>"
      ],
      "text/plain": [
       "            MAX     MIN\n",
       "N0_4     149862   14323\n",
       "N5_9      85460    8580\n",
       "N10_14    97611    8825\n",
       "N15_19   154913   14912\n",
       "N20_24   237795   24124\n",
       "N25_29   360237   39342\n",
       "N30_34   553254   60955\n",
       "N35_39   855754   92053\n",
       "N40_44  1437484  126046\n",
       "N45_49  2262419  180290\n",
       "N50_54  3407371  262396\n",
       "N55_59  4435555  387423\n",
       "N60_64  5462061  515274\n",
       "N65_69  5810498  549490\n",
       "N70_74  5559138  613962\n",
       "N75_79  5370255  536408\n",
       "N80_84  4088752  351052\n",
       "N85+    3367913  235475\n",
       "N_UNK     23178    1109"
      ]
     },
     "execution_count": 16,
     "metadata": {},
     "output_type": "execute_result"
    }
   ],
   "source": [
    "pd.concat([df.max().rename(\"MAX\"), df.min().rename(\"MIN\")], axis=1)"
   ]
  },
  {
   "cell_type": "markdown",
   "id": "ee18e583-baff-40b4-9557-ac48b13f835c",
   "metadata": {},
   "source": [
    "Fortunately, no extreme big or negative values in the dataset. All looks pretty legit. Let's check the distribution of cancer cases by age groups:"
   ]
  },
  {
   "cell_type": "code",
   "execution_count": 17,
   "id": "6c3810b3-a448-4137-b421-c6becdc75b59",
   "metadata": {},
   "outputs": [
    {
     "data": {
      "text/plain": [
       "<AxesSubplot:title={'center':'Figure 2. Number of cancer cases by age groups'}, xlabel='Age group', ylabel='Number of cases'>"
      ]
     },
     "execution_count": 17,
     "metadata": {},
     "output_type": "execute_result"
    },
    {
     "data": {
      "image/png": "[encoded data removed]",
      "text/plain": [
       "<Figure size 1080x504 with 1 Axes>"
      ]
     },
     "metadata": {
      "needs_background": "light"
     },
     "output_type": "display_data"
    }
   ],
   "source": [
    "# disable scientific notation for Y values\n",
    "plt.ticklabel_format(axis=\"y\", style=\"plain\")\n",
    "plt.title(\"Figure 2. Number of cancer cases by age groups\", fontdict={\"fontsize\": 16})\n",
    "plt.ylabel(\"Number of cases\", fontsize=16)\n",
    "plt.xlabel(\"Age group\", fontsize=16)\n",
    "\n",
    "df.sum().plot(kind=\"bar\", figsize=(15,7), fontsize=16)"
   ]
  },
  {
   "cell_type": "markdown",
   "id": "f28d83fc-ab48-45b6-8e0b-933b77d24f63",
   "metadata": {},
   "source": [
    "Here we see a picture very similar to Figure 1. Invasive cancer incidence, by age, U.S., 2009 <a href=\"#ref_2\">[2]</a>. Cancer incidence rises rapidly with age. Since is has the same property, it also confirms the veracity of this dataset."
   ]
  },
  {
   "cell_type": "markdown",
   "id": "edc38d7a-3d7a-4a7e-829e-674695292e57",
   "metadata": {},
   "source": [
    "## Analysis"
   ]
  },
  {
   "cell_type": "markdown",
   "id": "71dd7fdb-bee2-4693-91d9-5306a249425b",
   "metadata": {},
   "source": [
    "Let's visualize dynamics of the total number of registered cancer cases in the world:"
   ]
  },
  {
   "cell_type": "code",
   "execution_count": 18,
   "id": "bd75983f-292b-4334-9346-7c98e77f3dd4",
   "metadata": {},
   "outputs": [
    {
     "data": {
      "text/plain": [
       "<AxesSubplot:title={'center':'Figure 3. Numer of cancer cases reported in CI5 dataset'}, xlabel='YEAR', ylabel='Number of cases'>"
      ]
     },
     "execution_count": 18,
     "metadata": {},
     "output_type": "execute_result"
    },
    {
     "data": {
      "image/png": "[encoded data removed]",
      "text/plain": [
       "<Figure size 1080x504 with 1 Axes>"
      ]
     },
     "metadata": {
      "needs_background": "light"
     },
     "output_type": "display_data"
    }
   ],
   "source": [
    "total_cases = df.sum(axis=1)\n",
    "\n",
    "# disable scientific notation for Y values\n",
    "plt.ticklabel_format(axis=\"y\", style=\"plain\")\n",
    "plt.title(\"Figure 3. Numer of cancer cases reported in CI5 dataset\", fontdict={\"fontsize\": 16})\n",
    "plt.ylabel(\"Number of cases\", fontsize=16)\n",
    "plt.xlabel(\"Year\", fontsize=16)\n",
    "total_cases.plot.bar(figsize=(15,7), fontsize=16)"
   ]
  },
  {
   "cell_type": "markdown",
   "id": "bba2ab19-10ab-473c-9f01-73c6c554eef4",
   "metadata": {},
   "source": [
    "As we can see from this graph, the number of reported cancer cases increases in steps over time. Remember, our dataset consists of individual reports (volumes) that were published at different times. Different reports had different coverage of regions. These steps show the boundaries of different volumes. As we can see, over time the coverage has improved and this was reflected in more reported cases on the right side of the graph.  Unfortunately, due to this feature, we cannot rely on absolute values in our dataset."
   ]
  },
  {
   "cell_type": "markdown",
   "id": "1a896ba3-3c4c-4569-912f-a02707e70f74",
   "metadata": {},
   "source": [
    "Let's visualize dynamics of registered cancer cases in the world in younge adults in the recent decades:"
   ]
  },
  {
   "cell_type": "code",
   "execution_count": 19,
   "id": "9c977415-7188-4e03-8c81-e233f1014199",
   "metadata": {},
   "outputs": [
    {
     "data": {
      "text/plain": [
       "<AxesSubplot:title={'center':'Figure 4. Numer of cancer cases reported in CI5 dataset for 15-44 years old patients'}, xlabel='YEAR', ylabel='Number of cases'>"
      ]
     },
     "execution_count": 19,
     "metadata": {},
     "output_type": "execute_result"
    },
    {
     "data": {
      "image/png": "[encoded data removed]",
      "text/plain": [
       "<Figure size 1080x504 with 1 Axes>"
      ]
     },
     "metadata": {
      "needs_background": "light"
     },
     "output_type": "display_data"
    }
   ],
   "source": [
    "young_adults_cases = df[\"N15_19\"] + df[\"N20_24\"] + df[\"N25_29\"] + df[\"N30_34\"] + df[\"N35_39\"] + df[\"N40_44\"]\n",
    "\n",
    "# disable scientific notation for Y values\n",
    "plt.ticklabel_format(axis=\"y\", style=\"plain\")\n",
    "plt.title(\"Figure 4. Numer of cancer cases reported in CI5 dataset for 15-44 years old patients\", fontdict={\"fontsize\": 16})\n",
    "plt.ylabel(\"Number of cases\", fontsize=16)\n",
    "plt.xlabel(\"Year\", fontsize=16)\n",
    "\n",
    "young_adults_cases.plot.bar(stacked=True, figsize=(15,7), fontsize=16)"
   ]
  },
  {
   "cell_type": "markdown",
   "id": "fe934ee4-b01d-4d88-b025-868ee6445a9c",
   "metadata": {},
   "source": [
    "Here we see almost the same figure as previous one. From this we can conclude that more cases of cancer have been reported among younger patients in recent decades. However, this feature of the dataset may not reflect the actual dynamics. To better understand this data, you need to look at relative numbers."
   ]
  },
  {
   "cell_type": "markdown",
   "id": "63b99eac-b4d2-488f-b7f3-97abdb04c56c",
   "metadata": {},
   "source": [
    "Let's visualize dynamics of the percentage of young people among all cases in the recent decades."
   ]
  },
  {
   "cell_type": "code",
   "execution_count": 20,
   "id": "532078a6-469a-4192-8e7b-de9b553dd8e4",
   "metadata": {},
   "outputs": [
    {
     "data": {
      "text/plain": [
       "<AxesSubplot:title={'center':'Figure 5. Percentage of 15-44 years old patients among all reported cancer cases'}, xlabel='YEAR', ylabel='%'>"
      ]
     },
     "execution_count": 20,
     "metadata": {},
     "output_type": "execute_result"
    },
    {
     "data": {
      "image/png": "[encoded data removed]",
      "text/plain": [
       "<Figure size 1080x504 with 1 Axes>"
      ]
     },
     "metadata": {
      "needs_background": "light"
     },
     "output_type": "display_data"
    }
   ],
   "source": [
    "young_adults_percentage = (young_adults_cases / total_cases * 100)\n",
    "\n",
    "# disable scientific notation for Y values\n",
    "plt.ticklabel_format(axis=\"y\", style=\"plain\")\n",
    "plt.title(\"Figure 5. Percentage of 15-44 years old patients among all reported cancer cases\", fontdict={\"fontsize\": 16})\n",
    "plt.ylabel(\"%\", fontsize=18)\n",
    "plt.xlabel(\"Year\", fontsize=16)\n",
    "\n",
    "# draw a mean line over the graph\n",
    "mean = young_adults_percentage.mean()\n",
    "plt.plot(young_adults_percentage.index, [mean]*len(young_adults_cases.index), color='grey', label='Mean', linestyle='--')\n",
    "plt.text(young_adults_percentage.index[-5], mean+0.05, f'Mean = {round(mean, 2)}%', color='grey')\n",
    "\n",
    "# annotate the maximum\n",
    "plt.annotate(f'A max of {round(young_adults_percentage.max(),2)}% in {young_adults_percentage.idxmax()}',\n",
    "             xy=(young_adults_percentage.idxmax(), young_adults_percentage.max()),\n",
    "             xycoords='data',\n",
    "             xytext=(0.2, 0.95),\n",
    "             textcoords='axes fraction',\n",
    "             arrowprops=dict(facecolor='black', shrink=0.05),\n",
    "             horizontalalignment='right',\n",
    "             verticalalignment='top')\n",
    "\n",
    "# annotate the minimum\n",
    "plt.annotate(f'A min of {round(young_adults_percentage.min(),2)}% in {young_adults_percentage.idxmin()}',\n",
    "             xy=(young_adults_percentage.idxmin(), young_adults_percentage.min()),\n",
    "             xycoords='data',\n",
    "             xytext=(0.7, 0.1),\n",
    "             textcoords='axes fraction',\n",
    "             arrowprops=dict(facecolor='black', shrink=0.05),\n",
    "             horizontalalignment='right',\n",
    "             verticalalignment='top')\n",
    "\n",
    "young_adults_percentage.plot(figsize=(15,7), fontsize=16, color='blue')"
   ]
  },
  {
   "cell_type": "markdown",
   "id": "f4ae687e-092f-4591-a5c4-c7fede9bfedd",
   "metadata": {},
   "source": [
    "The graph shows that the percentage of young patients among all recorded cancer cases is around 9% and not very volatile over time. There is no trend for a significant increase in the proportion of young patients in recent years."
   ]
  },
  {
   "cell_type": "markdown",
   "id": "fc56c8b4-c7d3-4d18-a85f-f26e520e0ada",
   "metadata": {},
   "source": [
    "## Discussion and conclusion"
   ]
  },
  {
   "cell_type": "markdown",
   "id": "771e37d8-add2-43d6-b650-d8a3841b9646",
   "metadata": {},
   "source": [
    "In the reviewed literature, there is evidence of an increase in the incidence of cancer among young patients in some regions, in particular in the USA. The aim of this project was to analyze the data for the entire world to understand whether such a trend is taking place worldwide, or if it is a local phenomenon.\n",
    "\n",
    "As a result of the analysis, I found that over the past decades, the number of reported cancer cases has increased significantly, from around 5,000,000 cases in 1978 to around 40,000,000 cases in 2012. It's x8 growth. While the world population increased from 4 billion to 7 billion for the same period. Such a disproportional increase in registered cases, as well as the stepwise nature of this growth, indicates that it is not a natural increase in the incidence. More likely that this shows a gradual increase in the territory's coverage for CI5 dataset that serve as a source for the analysis.\n",
    "\n",
    "Inconsistency in area coverage limits the methods of analysis that can be applied to our dataset. In particular, it is not possible to calculate the incidence per 100,000 persons at risk. This metric is the gold standard in measuring incidence and assessing epidemiological trends.\n",
    "\n",
    "However, we can assume that the data is not biased against the covered age groups. This assumption is supported by the fact that Figure 2. \"Number of cancer cases by age groups\" that I derive from the considered dataset has the same characteristics as in other studies (for example, Figure 1). Therefore, I decided to evaluate the ratio between young patients and all patients over time.\n",
    "\n",
    "The Figure 5 shows that the percentage of young cancer patients little changed over time. It hits the maximum value of 10.02% in 1991 then declined. It reached a minimum of 7.8% in 2008. As can be seen from the graph, small fluctuations were in both directions within the ambit of 2%. It leds to the conclusion that on a global scale there is no trend towards an increase in the proportion of young people among all cases of cancer. This result may mean that the causes for the increase in cancer cases in the considered regions are of a local nature and are not the result of global changes, such as climate change."
   ]
  },
  {
   "cell_type": "markdown",
   "id": "160e2c2e-de57-4478-aeda-ae0bca85235a",
   "metadata": {},
   "source": [
    "## References"
   ]
  },
  {
   "cell_type": "markdown",
   "id": "adabc3f4-87cc-49bf-8d71-10cb513ca806",
   "metadata": {},
   "source": [
    "<a id='ref_1'>[1]</a> \"What Is Cancer?\" by National Cancer Institute (2021, May 5) [Online]. Available: https://www.cancer.gov/about-cancer/understanding/what-is-cancer"
   ]
  },
  {
   "cell_type": "markdown",
   "id": "3a4d5429-3f90-4c89-99a0-61b7305580b6",
   "metadata": {},
   "source": [
    "<a id='ref_2'>[2]</a> \"Age and Cancer Risk\" Am J Prev Med. 2014 Mar; 46(3 0 1): S7–15. [Online]. Available: https://doi.org/10.1016/j.amepre.2013.10.029"
   ]
  },
  {
   "cell_type": "markdown",
   "id": "4e4ff455-2fe8-47a9-8f2f-73d4e18021a9",
   "metadata": {},
   "source": [
    "<a id='ref_3'>[3]</a> \"Childhood Cancers\" by National Cancer Institute (2021, April 12) [Online]. Available: https://www.cancer.gov/types/childhood-cancers"
   ]
  },
  {
   "cell_type": "markdown",
   "id": "0e7aad44-dbae-49ac-8b90-f26fba1bec4a",
   "metadata": {},
   "source": [
    "<a id='ref_4'>[4]</a> \"The Challenging Landscape of Cancer and Aging: Charting a Way Forward\" by Norman E. Sharpless, M.D. (2018, January 24) [Online]. Available: https://www.cancer.gov/news-events/cancer-currents-blog/2018/sharpless-aging-cancer-research"
   ]
  },
  {
   "cell_type": "markdown",
   "id": "187a40b8-555d-41ae-8273-8049d7af01c6",
   "metadata": {},
   "source": [
    "<a id='ref_5'>[5]</a> di Martino, E., Smith, L., Bradley, S.H. et al. Incidence trends for twelve cancers in younger adults—a rapid review. Br J Cancer 126, 1374–1386 (2022). [Online]. Available: https://doi.org/10.1038/s41416-022-01704-x"
   ]
  },
  {
   "cell_type": "markdown",
   "id": "17604451-bbcb-4ea4-adf4-68b7bb16ecdd",
   "metadata": {},
   "source": [
    "<a id='ref_6'>[6]</a> Scott AR, Stoltzfus KC, Tchelebi LT, et al. Trends in Cancer Incidence in US Adolescents and Young Adults, 1973-2015. JAMA Netw Open. 2020;3(12):e2027738. [Online]. Available: https://doi.org/10.1001/jamanetworkopen.2020.27738\n"
   ]
  },
  {
   "cell_type": "markdown",
   "id": "83a519b1-12b7-42cf-8fcf-38ee82669093",
   "metadata": {},
   "source": [
    "<a id='ref_7'>[7]</a> Cancer Stat Facts: Cancer Among Adolescents and Young Adults (AYAs) (Ages 15–39) by National Cancer Institute (2022) [Online]. Available: https://seer.cancer.gov/statfacts/html/aya.html"
   ]
  },
  {
   "cell_type": "markdown",
   "id": "1a8c40b9-4fbb-43d3-9eb6-ab95ce50f2b0",
   "metadata": {},
   "source": [
    "<a id='ref_8'>[8]</a> CI5: CANCER INCIDENCE IN FIVE CONTINENTS by International Agency for Research on Cancer (IARC) [Online]. Available: https://ci5.iarc.fr/Default.aspx"
   ]
  },
  {
   "cell_type": "markdown",
   "id": "693349c8-a5e8-4dfe-8db1-21962599d13c",
   "metadata": {},
   "source": [
    "<a id='ref_9'>[9]</a> Muir, C.S.,Waterhouse, J.,Mack, T.,Powell, J.,Whelan, S.L., eds (1987) \\\n",
    "Cancer Incidence in Five Continents, Vol. V \\\n",
    "IARC Scientific Publications, No. 88, Lyon, IARC. \\\n",
    "[Online]. Available: https://ci5.iarc.fr/CI5I-X/Pages/download.aspx"
   ]
  },
  {
   "cell_type": "markdown",
   "id": "1c659f02-2de9-4bb6-b473-ec45e07ef48e",
   "metadata": {},
   "source": [
    "<a id='ref_10'>[10]</a> Parkin, D.M.,Muir, C.S.,Whelan, S.L.,Gao, Y.-T.,Ferlay, J.,Powell, J., eds (1992) \\\n",
    "Cancer Incidence in Five Continents, Vol. VI \\\n",
    "IARC Scientific Publications, No. 120, Lyon, IARC. \\\n",
    "[Online]. Available: https://ci5.iarc.fr/CI5I-X/Pages/download.aspx"
   ]
  },
  {
   "cell_type": "markdown",
   "id": "b02ebd4b-d3d0-4d19-af63-d5a63f35719d",
   "metadata": {},
   "source": [
    "<a id='ref_11'>[11]</a> Parkin, D.M., Whelan, S.L., Ferlay, J., Raymond, L., and Young, J., eds (1997) \\\n",
    "Cancer Incidence in Five Continents, Vol. VII \\\n",
    "IARC Scientific Publications, No. 143, Lyon, IARC. \\\n",
    "[Online]. Available: https://ci5.iarc.fr/CI5I-X/Pages/download.aspx"
   ]
  },
  {
   "cell_type": "markdown",
   "id": "1cee4bde-de0f-4a66-ad6a-bb9cea8c5858",
   "metadata": {},
   "source": [
    "<a id='ref_12'>[12]</a> Parkin, D.M., Whelan, S.L., Ferlay, J., Teppo, L., and Thomas, D.B., eds (2002) \\\n",
    "Cancer Incidence in Five Continents, Vol. VIII \\\n",
    "IARC Scientific Publications, No. 155, Lyon, IARC. \\\n",
    "[Online]. Available: https://ci5.iarc.fr/CI5I-X/Pages/download.aspx"
   ]
  },
  {
   "cell_type": "markdown",
   "id": "5432fe52-c3b7-41b9-977d-b49671499f62",
   "metadata": {},
   "source": [
    "<a id='ref_13'>[13]</a> Curado. M. P., Edwards. B., Shin. H.R., Storm. H., Ferlay. J., Heanue. M. and Boyle. P., eds (2007) \\\n",
    "Cancer Incidence in Five Continents, Vol. IX \\\n",
    "IARC Scientific Publications, No. 160, Lyon, IARC. \\\n",
    "[Online]. Available: https://ci5.iarc.fr/CI5I-X/Pages/download.aspx"
   ]
  },
  {
   "cell_type": "markdown",
   "id": "fcd860f1-995a-4eda-bde3-c364fae7adff",
   "metadata": {},
   "source": [
    "<a id='ref_14'>[14]</a> Forman D, Bray F, Brewster DH, Gombe Mbalawa C, Kohler B, Piñeros M, Steliarova-Foucher E, Swaminathan R and Ferlay J, editors (2014) \\\n",
    "Cancer Incidence in Five Continents, Vol. X \\\n",
    "IARC Scientific Publication No. 164. Lyon: International Agency for Research on Cancer. \\\n",
    "[Online]. Available: https://ci5.iarc.fr/CI5I-X/Pages/download.aspx"
   ]
  },
  {
   "cell_type": "markdown",
   "id": "5eac4d5d-bb77-4ac2-9e35-bfd6ceb04615",
   "metadata": {},
   "source": [
    "<a id='ref_15'>[15]</a> Bray F, Colombet M, Mery L, Piñeros M, Znaor A, Zanetti R and Ferlay J, editors (2017) \\\n",
    "Cancer Incidence in Five Continents, Vol. XI (electronic version). Lyon: International Agency for Research on Cancer. Available from: https://ci5.iarc.fr, accessed 25.06.2022. \\\n",
    "The printed version of this volume (IARC Scientific Publication No. 166) is also available for download in PDF format at the IARC Publications website (https://publications.iarc.fr/597)."
   ]
  }
 ],
 "metadata": {
  "kernelspec": {
   "display_name": "Python 3 (ipykernel)",
   "language": "python",
   "name": "python3"
  },
  "language_info": {
   "codemirror_mode": {
    "name": "ipython",
    "version": 3
   },
   "file_extension": ".py",
   "mimetype": "text/x-python",
   "name": "python",
   "nbconvert_exporter": "python",
   "pygments_lexer": "ipython3",
   "version": "3.9.7"
  }
 },
 "nbformat": 4,
 "nbformat_minor": 5
}
