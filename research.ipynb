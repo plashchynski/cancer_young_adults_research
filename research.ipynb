{
 "cells": [
  {
   "cell_type": "markdown",
   "id": "9f5b1f7b-985e-4d62-ab8d-1ec44fb7efbb",
   "metadata": {
    "tags": []
   },
   "source": [
    "# Cancer incidence trends in young adults\n",
    "\n",
    "## Introduction\n",
    "\n",
    "The idea of this project comes from a conversation I recently have with a friend of mine who worked in a cancer retreat center. The friend is a medical professional who worked at the center for many years. He noticed that over the past 10 years, there have been more relatively young patients in the center than it was before. The friend was inclined to attribute this observation to the deteriorating quality of air, food, and other environmental factors. I skeptically suggested that there are other possible explanations of this phenomenon. 10 years ago, the friend himself was younger and could perceive typical patients as older. Anyway, we did not have access to the private patient records at the center to proof or reject our conjectures.\n",
    "\n",
    "As a software developer I am interested in Digital health. The idea of using information technologies to enhance the efficiency of healthcare seems very promising. Collection and analysis of health data using the data-science approach could potentially improve our understanding of diseases in many ways. Therefore, I decided to investigate my friend's observation. Using available data and data-science approach it seems possible to determine if young adults have really become more often diagnosed with cancer in recent years. If such alarming trend really takes place, this may mean that other studies on the causes are needed. So, I think that topic is excellent choice for this exploratory data analysis project."
   ]
  },
  {
   "cell_type": "markdown",
   "id": "b8573cbd-8470-4637-85e5-d21177e57898",
   "metadata": {},
   "source": [
    "## Aims and Objectives"
   ]
  },
  {
   "cell_type": "markdown",
   "id": "ba0fb268-ac64-48a2-9d2b-7aee1cf43efa",
   "metadata": {},
   "source": [
    "Within this research project my aim is to find out if young adults are more likely to be diagnosed with cancer in the recent decades in the United States. For the purpose of this project, a young adult is considered to be between the ages of 20 and 40."
   ]
  },
  {
   "cell_type": "code",
   "execution_count": null,
   "id": "cef0d8c0-a952-4c61-ac20-2e08ce1340ec",
   "metadata": {},
   "outputs": [],
   "source": []
  }
 ],
 "metadata": {
  "kernelspec": {
   "display_name": "Python 3 (ipykernel)",
   "language": "python",
   "name": "python3"
  },
  "language_info": {
   "codemirror_mode": {
    "name": "ipython",
    "version": 3
   },
   "file_extension": ".py",
   "mimetype": "text/x-python",
   "name": "python",
   "nbconvert_exporter": "python",
   "pygments_lexer": "ipython3",
   "version": "3.9.7"
  }
 },
 "nbformat": 4,
 "nbformat_minor": 5
}
